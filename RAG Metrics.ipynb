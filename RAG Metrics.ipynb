{
  "cells": [
    {
      "cell_type": "markdown",
      "metadata": {
        "id": "FI6OrHr9R6AA"
      },
      "source": [
        "# Making AI Travel Agent"
      ]
    },
    {
      "cell_type": "markdown",
      "metadata": {
        "id": "INIA40pMSYOn"
      },
      "source": [
        "## Overview\n",
        "\n",
        "#Introduction\n",
        "In the rapidly evolving digital landscape, providing personalized recommendations has become crucial for enhancing user experiences. The Travel Itinerary Recommendation Chatbot leverages cutting-edge technologies like Retrieval-Augmented Generation (RAG), Large Language Models (LLMs), LangChain, and vector databases to offer tailored travel plans. This chatbot aims to interact with users to understand their preferences and generate custom itineraries based on pre-existing travel data.\n",
        "\n",
        "#Objective\n",
        "The goal of this project is to develop a domain-specific application that combines the strengths of an LLM for understanding and processing natural language queries with the efficiency of a vector database for data storage and retrieval. The chatbot will provide personalized travel recommendations using RAG, ensuring that the suggestions are accurate and relevant to the user's stated preferences.\n",
        "\n",
        "#Key Requirements\n",
        "User Interaction: The chatbot should allow users to input their preferences and needs through a conversational interface.\n",
        "RAG-Based Recommendations: Generate personalized travel recommendations based on user input.\n",
        "Intelligent Responses: Provide relevant information and suggestions based on existing data.\n",
        "Pre-existing Data: Recommendations should be based solely on the existing data stored in the vector database.\n",
        "Backend Integration: Utilize LangChain to manage interaction flow, with details stored in a vector database.\n",
        "Data Fetching: Retrieve the top K (K <= 3) data entries based on user descriptions using similarity search in the vector database.\n",
        "Mock Data: Use prompt engineering to generate mock data for the vector database.\n",
        "\n",
        "\n"
      ]
    },
    {
      "cell_type": "markdown",
      "metadata": {
        "id": "0M72MEscSasQ"
      },
      "source": [
        "### Costs\n",
        "\n",
        "This tutorial uses billable components of Google Cloud:\n",
        "\n",
        "- Vertex AI\n",
        "\n",
        "Learn about [Vertex AI pricing](https://cloud.google.com/vertex-ai/pricing) and use the [Pricing Calculator](https://cloud.google.com/products/calculator/) to generate a cost estimate based on your projected usage."
      ]
    },
    {
      "cell_type": "markdown",
      "metadata": {
        "id": "9VEOKEsLSdTx"
      },
      "source": [
        "### Objectives\n",
        "\n",
        "This notebook provides a guide to building a questions answering system using multimodal retrieval augmented generation (RAG).\n",
        "\n",
        "You will complete the following tasks:\n",
        "\n",
        "1. Extract data from documents containing both text and images using Gemini Vision Pro, and generate embeddings of the data, store it in vector store\n",
        "2. Search the vector store with text queries to find similar text data\n",
        "3. Using Text data as context, generate answer to the user query using Gemini Pro Model."
      ]
    },
    {
      "cell_type": "markdown",
      "metadata": {
        "id": "r11Gu7qNgx1p"
      },
      "source": [
        "## Getting Started"
      ]
    },
    {
      "cell_type": "markdown",
      "metadata": {
        "id": "No17Cw5hgx12"
      },
      "source": [
        "### Install Vertex AI SDK and other required packages\n"
      ]
    },
    {
      "cell_type": "code",
      "execution_count": null,
      "metadata": {
        "id": "Hfn_UeXyTHaH",
        "colab": {
          "base_uri": "https://localhost:8080/"
        },
        "outputId": "22b7b439-16a6-4256-ab68-90dc7c5e8456"
      },
      "outputs": [
        {
          "output_type": "stream",
          "name": "stdout",
          "text": [
            "\u001b[2K     \u001b[90m━━━━━━━━━━━━━━━━━━━━━━━━━━━━━━━━━━━━━━━━\u001b[0m \u001b[32m3.5/3.5 MB\u001b[0m \u001b[31m8.8 MB/s\u001b[0m eta \u001b[36m0:00:00\u001b[0m\n",
            "\u001b[2K     \u001b[90m━━━━━━━━━━━━━━━━━━━━━━━━━━━━━━━━━━━━━━━━\u001b[0m \u001b[32m983.6/983.6 kB\u001b[0m \u001b[31m18.8 MB/s\u001b[0m eta \u001b[36m0:00:00\u001b[0m\n",
            "\u001b[2K     \u001b[90m━━━━━━━━━━━━━━━━━━━━━━━━━━━━━━━━━━━━━━━━\u001b[0m \u001b[32m12.3/12.3 MB\u001b[0m \u001b[31m16.5 MB/s\u001b[0m eta \u001b[36m0:00:00\u001b[0m\n",
            "\u001b[2K     \u001b[90m━━━━━━━━━━━━━━━━━━━━━━━━━━━━━━━━━━━━━━━━\u001b[0m \u001b[32m5.1/5.1 MB\u001b[0m \u001b[31m23.2 MB/s\u001b[0m eta \u001b[36m0:00:00\u001b[0m\n",
            "\u001b[2K     \u001b[90m━━━━━━━━━━━━━━━━━━━━━━━━━━━━━━━━━━━━━━━━\u001b[0m \u001b[32m73.0/73.0 kB\u001b[0m \u001b[31m4.0 MB/s\u001b[0m eta \u001b[36m0:00:00\u001b[0m\n",
            "\u001b[2K     \u001b[90m━━━━━━━━━━━━━━━━━━━━━━━━━━━━━━━━━━━━━━━━\u001b[0m \u001b[32m15.7/15.7 MB\u001b[0m \u001b[31m17.2 MB/s\u001b[0m eta \u001b[36m0:00:00\u001b[0m\n",
            "\u001b[2K     \u001b[90m━━━━━━━━━━━━━━━━━━━━━━━━━━━━━━━━━━━━━━━━\u001b[0m \u001b[32m362.4/362.4 kB\u001b[0m \u001b[31m12.4 MB/s\u001b[0m eta \u001b[36m0:00:00\u001b[0m\n",
            "\u001b[2K     \u001b[90m━━━━━━━━━━━━━━━━━━━━━━━━━━━━━━━━━━━━━━━━\u001b[0m \u001b[32m127.9/127.9 kB\u001b[0m \u001b[31m4.3 MB/s\u001b[0m eta \u001b[36m0:00:00\u001b[0m\n",
            "\u001b[2K     \u001b[90m━━━━━━━━━━━━━━━━━━━━━━━━━━━━━━━━━━━━━━━━\u001b[0m \u001b[32m92.0/92.0 kB\u001b[0m \u001b[31m4.2 MB/s\u001b[0m eta \u001b[36m0:00:00\u001b[0m\n",
            "\u001b[?25h  Preparing metadata (setup.py) ... \u001b[?25l\u001b[?25hdone\n",
            "\u001b[2K     \u001b[90m━━━━━━━━━━━━━━━━━━━━━━━━━━━━━━━━━━━━━━━━\u001b[0m \u001b[32m318.2/318.2 kB\u001b[0m \u001b[31m10.2 MB/s\u001b[0m eta \u001b[36m0:00:00\u001b[0m\n",
            "\u001b[2K     \u001b[90m━━━━━━━━━━━━━━━━━━━━━━━━━━━━━━━━━━━━━━━━\u001b[0m \u001b[32m75.6/75.6 kB\u001b[0m \u001b[31m5.8 MB/s\u001b[0m eta \u001b[36m0:00:00\u001b[0m\n",
            "\u001b[2K     \u001b[90m━━━━━━━━━━━━━━━━━━━━━━━━━━━━━━━━━━━━━━━━\u001b[0m \u001b[32m141.1/141.1 kB\u001b[0m \u001b[31m3.5 MB/s\u001b[0m eta \u001b[36m0:00:00\u001b[0m\n",
            "\u001b[2K     \u001b[90m━━━━━━━━━━━━━━━━━━━━━━━━━━━━━━━━━━━━━━━━\u001b[0m \u001b[32m10.1/10.1 MB\u001b[0m \u001b[31m40.8 MB/s\u001b[0m eta \u001b[36m0:00:00\u001b[0m\n",
            "\u001b[2K     \u001b[90m━━━━━━━━━━━━━━━━━━━━━━━━━━━━━━━━━━━━━━━━\u001b[0m \u001b[32m62.4/62.4 kB\u001b[0m \u001b[31m4.6 MB/s\u001b[0m eta \u001b[36m0:00:00\u001b[0m\n",
            "\u001b[2K     \u001b[90m━━━━━━━━━━━━━━━━━━━━━━━━━━━━━━━━━━━━━━━━\u001b[0m \u001b[32m129.9/129.9 kB\u001b[0m \u001b[31m8.1 MB/s\u001b[0m eta \u001b[36m0:00:00\u001b[0m\n",
            "\u001b[2K     \u001b[90m━━━━━━━━━━━━━━━━━━━━━━━━━━━━━━━━━━━━━━━━\u001b[0m \u001b[32m126.5/126.5 kB\u001b[0m \u001b[31m8.3 MB/s\u001b[0m eta \u001b[36m0:00:00\u001b[0m\n",
            "\u001b[2K     \u001b[90m━━━━━━━━━━━━━━━━━━━━━━━━━━━━━━━━━━━━━━━━\u001b[0m \u001b[32m77.9/77.9 kB\u001b[0m \u001b[31m4.9 MB/s\u001b[0m eta \u001b[36m0:00:00\u001b[0m\n",
            "\u001b[2K     \u001b[90m━━━━━━━━━━━━━━━━━━━━━━━━━━━━━━━━━━━━━━━━\u001b[0m \u001b[32m58.3/58.3 kB\u001b[0m \u001b[31m4.1 MB/s\u001b[0m eta \u001b[36m0:00:00\u001b[0m\n",
            "\u001b[2K     \u001b[90m━━━━━━━━━━━━━━━━━━━━━━━━━━━━━━━━━━━━━━━━\u001b[0m \u001b[32m71.9/71.9 kB\u001b[0m \u001b[31m4.2 MB/s\u001b[0m eta \u001b[36m0:00:00\u001b[0m\n",
            "\u001b[2K     \u001b[90m━━━━━━━━━━━━━━━━━━━━━━━━━━━━━━━━━━━━━━━━\u001b[0m \u001b[32m53.6/53.6 kB\u001b[0m \u001b[31m2.5 MB/s\u001b[0m eta \u001b[36m0:00:00\u001b[0m\n",
            "\u001b[2K     \u001b[90m━━━━━━━━━━━━━━━━━━━━━━━━━━━━━━━━━━━━━━━━\u001b[0m \u001b[32m307.7/307.7 kB\u001b[0m \u001b[31m28.4 MB/s\u001b[0m eta \u001b[36m0:00:00\u001b[0m\n",
            "\u001b[2K     \u001b[90m━━━━━━━━━━━━━━━━━━━━━━━━━━━━━━━━━━━━━━━━\u001b[0m \u001b[32m341.4/341.4 kB\u001b[0m \u001b[31m31.0 MB/s\u001b[0m eta \u001b[36m0:00:00\u001b[0m\n",
            "\u001b[2K     \u001b[90m━━━━━━━━━━━━━━━━━━━━━━━━━━━━━━━━━━━━━━━━\u001b[0m \u001b[32m3.4/3.4 MB\u001b[0m \u001b[31m86.8 MB/s\u001b[0m eta \u001b[36m0:00:00\u001b[0m\n",
            "\u001b[2K     \u001b[90m━━━━━━━━━━━━━━━━━━━━━━━━━━━━━━━━━━━━━━━━\u001b[0m \u001b[32m1.2/1.2 MB\u001b[0m \u001b[31m57.0 MB/s\u001b[0m eta \u001b[36m0:00:00\u001b[0m\n",
            "\u001b[?25h  Building wheel for ffmpy (setup.py) ... \u001b[?25l\u001b[?25hdone\n"
          ]
        }
      ],
      "source": [
        "!pip install --upgrade --quiet pymupdf langchain gradio google-cloud-aiplatform langchain_google_vertexai"
      ]
    },
    {
      "cell_type": "markdown",
      "metadata": {
        "id": "j7UyNVSiyQ96"
      },
      "source": [
        "### Restart runtime\n",
        "\n",
        "To use the newly installed packages in this Jupyter runtime, you must restart the runtime. You can do this by running the cell below, which restarts the current kernel.\n",
        "\n",
        "The restart might take a minute or longer. After its restarted, continue to the next step."
      ]
    },
    {
      "cell_type": "code",
      "execution_count": null,
      "metadata": {
        "id": "YmY9HVVGSBW5",
        "colab": {
          "base_uri": "https://localhost:8080/"
        },
        "outputId": "4d89d0b9-c417-4835-b71b-32d1b8a261b2"
      },
      "outputs": [
        {
          "output_type": "execute_result",
          "data": {
            "text/plain": [
              "{'status': 'ok', 'restart': True}"
            ]
          },
          "metadata": {},
          "execution_count": 37
        }
      ],
      "source": [
        "import IPython\n",
        "\n",
        "app = IPython.Application.instance()\n",
        "app.kernel.do_shutdown(True)"
      ]
    },
    {
      "cell_type": "markdown",
      "metadata": {
        "id": "EXQZrM5hQeKb"
      },
      "source": [
        "<div class=\"alert alert-block alert-warning\">\n",
        "<b>⚠️ Wait for the kernel to finish restarting before you continue. ⚠️</b>\n",
        "</div>"
      ]
    },
    {
      "cell_type": "markdown",
      "metadata": {
        "id": "dmWOrTJ3gx13"
      },
      "source": [
        "### Authenticate your notebook environment (Colab only)\n",
        "\n",
        "If you are running this notebook on Google Colab, run the cell below to authenticate your environment.\n",
        "\n",
        "This step is not required if you are using [Vertex AI Workbench](https://cloud.google.com/vertex-ai-workbench)."
      ]
    },
    {
      "cell_type": "code",
      "execution_count": null,
      "metadata": {
        "id": "NyKGtVQjgx13"
      },
      "outputs": [],
      "source": [
        "import sys\n",
        "\n",
        "# Additional authentication is required for Google Colab\n",
        "if \"google.colab\" in sys.modules:\n",
        "    # Authenticate user to Google Cloud\n",
        "    from google.colab import auth\n",
        "\n",
        "    auth.authenticate_user()"
      ]
    },
    {
      "cell_type": "markdown",
      "metadata": {
        "id": "DF4l8DTdWgPY"
      },
      "source": [
        "### Define Google Cloud project information and initialize Vertex AI\n",
        "\n",
        "To get started using Vertex AI, you must have an existing Google Cloud project and [enable the Vertex AI API](https://console.cloud.google.com/flows/enableapi?apiid=aiplatform.googleapis.com).\n",
        "\n",
        "Learn more about [setting up a project and a development environment](https://cloud.google.com/vertex-ai/docs/start/cloud-environment)."
      ]
    },
    {
      "cell_type": "code",
      "execution_count": null,
      "metadata": {
        "id": "Nqwi-5ufWp_B"
      },
      "outputs": [],
      "source": [
        "# Define project information\n",
        "PROJECT_ID = \"key-transformer-429201-m0\"  # @param {type:\"string\"}\n",
        "LOCATION = \"us-east1\"  # @param {type:\"string\"}\n",
        "\n",
        "# Initialize Vertex AI\n",
        "import vertexai\n",
        "\n",
        "vertexai.init(project=PROJECT_ID, location=LOCATION)"
      ]
    },
    {
      "cell_type": "code",
      "source": [
        "!pip install langchain_community"
      ],
      "metadata": {
        "colab": {
          "base_uri": "https://localhost:8080/"
        },
        "id": "tGI-RZmhUu1g",
        "outputId": "81c2b568-3463-49a8-c1e3-3f01d389e786"
      },
      "execution_count": null,
      "outputs": [
        {
          "output_type": "stream",
          "name": "stdout",
          "text": [
            "Collecting langchain_community\n",
            "  Downloading langchain_community-0.2.7-py3-none-any.whl (2.2 MB)\n",
            "\u001b[2K     \u001b[90m━━━━━━━━━━━━━━━━━━━━━━━━━━━━━━━━━━━━━━━━\u001b[0m \u001b[32m2.2/2.2 MB\u001b[0m \u001b[31m8.5 MB/s\u001b[0m eta \u001b[36m0:00:00\u001b[0m\n",
            "\u001b[?25hRequirement already satisfied: PyYAML>=5.3 in /usr/local/lib/python3.10/dist-packages (from langchain_community) (6.0.1)\n",
            "Requirement already satisfied: SQLAlchemy<3,>=1.4 in /usr/local/lib/python3.10/dist-packages (from langchain_community) (2.0.31)\n",
            "Requirement already satisfied: aiohttp<4.0.0,>=3.8.3 in /usr/local/lib/python3.10/dist-packages (from langchain_community) (3.9.5)\n",
            "Collecting dataclasses-json<0.7,>=0.5.7 (from langchain_community)\n",
            "  Downloading dataclasses_json-0.6.7-py3-none-any.whl (28 kB)\n",
            "Requirement already satisfied: langchain<0.3.0,>=0.2.7 in /usr/local/lib/python3.10/dist-packages (from langchain_community) (0.2.7)\n",
            "Requirement already satisfied: langchain-core<0.3.0,>=0.2.12 in /usr/local/lib/python3.10/dist-packages (from langchain_community) (0.2.16)\n",
            "Requirement already satisfied: langsmith<0.2.0,>=0.1.0 in /usr/local/lib/python3.10/dist-packages (from langchain_community) (0.1.85)\n",
            "Requirement already satisfied: numpy<2,>=1 in /usr/local/lib/python3.10/dist-packages (from langchain_community) (1.25.2)\n",
            "Requirement already satisfied: requests<3,>=2 in /usr/local/lib/python3.10/dist-packages (from langchain_community) (2.31.0)\n",
            "Requirement already satisfied: tenacity!=8.4.0,<9.0.0,>=8.1.0 in /usr/local/lib/python3.10/dist-packages (from langchain_community) (8.4.2)\n",
            "Requirement already satisfied: aiosignal>=1.1.2 in /usr/local/lib/python3.10/dist-packages (from aiohttp<4.0.0,>=3.8.3->langchain_community) (1.3.1)\n",
            "Requirement already satisfied: attrs>=17.3.0 in /usr/local/lib/python3.10/dist-packages (from aiohttp<4.0.0,>=3.8.3->langchain_community) (23.2.0)\n",
            "Requirement already satisfied: frozenlist>=1.1.1 in /usr/local/lib/python3.10/dist-packages (from aiohttp<4.0.0,>=3.8.3->langchain_community) (1.4.1)\n",
            "Requirement already satisfied: multidict<7.0,>=4.5 in /usr/local/lib/python3.10/dist-packages (from aiohttp<4.0.0,>=3.8.3->langchain_community) (6.0.5)\n",
            "Requirement already satisfied: yarl<2.0,>=1.0 in /usr/local/lib/python3.10/dist-packages (from aiohttp<4.0.0,>=3.8.3->langchain_community) (1.9.4)\n",
            "Requirement already satisfied: async-timeout<5.0,>=4.0 in /usr/local/lib/python3.10/dist-packages (from aiohttp<4.0.0,>=3.8.3->langchain_community) (4.0.3)\n",
            "Collecting marshmallow<4.0.0,>=3.18.0 (from dataclasses-json<0.7,>=0.5.7->langchain_community)\n",
            "  Downloading marshmallow-3.21.3-py3-none-any.whl (49 kB)\n",
            "\u001b[2K     \u001b[90m━━━━━━━━━━━━━━━━━━━━━━━━━━━━━━━━━━━━━━━━\u001b[0m \u001b[32m49.2/49.2 kB\u001b[0m \u001b[31m4.7 MB/s\u001b[0m eta \u001b[36m0:00:00\u001b[0m\n",
            "\u001b[?25hCollecting typing-inspect<1,>=0.4.0 (from dataclasses-json<0.7,>=0.5.7->langchain_community)\n",
            "  Downloading typing_inspect-0.9.0-py3-none-any.whl (8.8 kB)\n",
            "Requirement already satisfied: langchain-text-splitters<0.3.0,>=0.2.0 in /usr/local/lib/python3.10/dist-packages (from langchain<0.3.0,>=0.2.7->langchain_community) (0.2.2)\n",
            "Requirement already satisfied: pydantic<3,>=1 in /usr/local/lib/python3.10/dist-packages (from langchain<0.3.0,>=0.2.7->langchain_community) (2.8.0)\n",
            "Requirement already satisfied: jsonpatch<2.0,>=1.33 in /usr/local/lib/python3.10/dist-packages (from langchain-core<0.3.0,>=0.2.12->langchain_community) (1.33)\n",
            "Requirement already satisfied: packaging<25,>=23.2 in /usr/local/lib/python3.10/dist-packages (from langchain-core<0.3.0,>=0.2.12->langchain_community) (24.1)\n",
            "Requirement already satisfied: orjson<4.0.0,>=3.9.14 in /usr/local/lib/python3.10/dist-packages (from langsmith<0.2.0,>=0.1.0->langchain_community) (3.10.6)\n",
            "Requirement already satisfied: charset-normalizer<4,>=2 in /usr/local/lib/python3.10/dist-packages (from requests<3,>=2->langchain_community) (3.3.2)\n",
            "Requirement already satisfied: idna<4,>=2.5 in /usr/local/lib/python3.10/dist-packages (from requests<3,>=2->langchain_community) (3.7)\n",
            "Requirement already satisfied: urllib3<3,>=1.21.1 in /usr/local/lib/python3.10/dist-packages (from requests<3,>=2->langchain_community) (2.0.7)\n",
            "Requirement already satisfied: certifi>=2017.4.17 in /usr/local/lib/python3.10/dist-packages (from requests<3,>=2->langchain_community) (2024.6.2)\n",
            "Requirement already satisfied: typing-extensions>=4.6.0 in /usr/local/lib/python3.10/dist-packages (from SQLAlchemy<3,>=1.4->langchain_community) (4.12.2)\n",
            "Requirement already satisfied: greenlet!=0.4.17 in /usr/local/lib/python3.10/dist-packages (from SQLAlchemy<3,>=1.4->langchain_community) (3.0.3)\n",
            "Requirement already satisfied: jsonpointer>=1.9 in /usr/local/lib/python3.10/dist-packages (from jsonpatch<2.0,>=1.33->langchain-core<0.3.0,>=0.2.12->langchain_community) (3.0.0)\n",
            "Requirement already satisfied: annotated-types>=0.4.0 in /usr/local/lib/python3.10/dist-packages (from pydantic<3,>=1->langchain<0.3.0,>=0.2.7->langchain_community) (0.7.0)\n",
            "Requirement already satisfied: pydantic-core==2.20.0 in /usr/local/lib/python3.10/dist-packages (from pydantic<3,>=1->langchain<0.3.0,>=0.2.7->langchain_community) (2.20.0)\n",
            "Collecting mypy-extensions>=0.3.0 (from typing-inspect<1,>=0.4.0->dataclasses-json<0.7,>=0.5.7->langchain_community)\n",
            "  Downloading mypy_extensions-1.0.0-py3-none-any.whl (4.7 kB)\n",
            "Installing collected packages: mypy-extensions, marshmallow, typing-inspect, dataclasses-json, langchain_community\n",
            "Successfully installed dataclasses-json-0.6.7 langchain_community-0.2.7 marshmallow-3.21.3 mypy-extensions-1.0.0 typing-inspect-0.9.0\n"
          ]
        }
      ]
    },
    {
      "cell_type": "markdown",
      "metadata": {
        "id": "jXHfaVS66_01"
      },
      "source": [
        "### Importing all the libraries\n"
      ]
    },
    {
      "cell_type": "code",
      "execution_count": null,
      "metadata": {
        "id": "lslYAvw37JGQ",
        "colab": {
          "base_uri": "https://localhost:8080/"
        },
        "outputId": "fcb2000b-ef82-4d6a-dbb0-d9bc548d2bf1"
      },
      "outputs": [
        {
          "output_type": "stream",
          "name": "stdout",
          "text": [
            "Vertex AI SDK version: 1.59.0\n",
            "LangChain version: 0.2.7\n"
          ]
        }
      ],
      "source": [
        "\n",
        "import os\n",
        "\n",
        "\n",
        "import time\n",
        "\n",
        "import uuid\n",
        "from datetime import datetime\n",
        "\n",
        "import fitz\n",
        "import gradio as gr\n",
        "import pandas as pd\n",
        "\n",
        "\n",
        "from google.cloud import aiplatform\n",
        "from PIL import Image as PIL_Image\n",
        "from vertexai.generative_models import GenerativeModel, Image\n",
        "from vertexai.language_models import TextEmbeddingModel\n",
        "\n",
        "\n",
        "print(f\"Vertex AI SDK version: {aiplatform.__version__}\")\n",
        "\n",
        "\n",
        "import langchain\n",
        "\n",
        "print(f\"LangChain version: {langchain.__version__}\")\n",
        "from langchain.text_splitter import CharacterTextSplitter\n",
        "from langchain_community.document_loaders import DataFrameLoader"
      ]
    },
    {
      "cell_type": "markdown",
      "metadata": {
        "id": "lP1EMJL4ddcA"
      },
      "source": [
        "### Initializing Text Embedding with models Gemini Vision Pro"
      ]
    },
    {
      "cell_type": "code",
      "execution_count": null,
      "metadata": {
        "id": "sNOqAHc3dbDf"
      },
      "outputs": [],
      "source": [
        "\n",
        "multimodal_model = GenerativeModel(\"gemini-1.0-pro-vision\")\n",
        "\n",
        "\n",
        "text_embedding_model = TextEmbeddingModel.from_pretrained(\"textembedding-gecko@003\")\n",
        "\n",
        "model = GenerativeModel(\"gemini-1.0-pro\")"
      ]
    },
    {
      "cell_type": "code",
      "execution_count": null,
      "metadata": {
        "id": "qCuvbLu9tDOa",
        "colab": {
          "base_uri": "https://localhost:8080/"
        },
        "outputId": "35d0a306-1818-4256-f477-a0128f8834d6"
      },
      "outputs": [
        {
          "output_type": "stream",
          "name": "stdout",
          "text": [
            "--2024-07-12 02:29:34--  https://www.hitachi.com/rev/archive/2023/r2023_04/pdf/04a02.pdf\n",
            "Resolving www.hitachi.com (www.hitachi.com)... 99.84.160.124, 99.84.160.64, 99.84.160.122, ...\n",
            "Connecting to www.hitachi.com (www.hitachi.com)|99.84.160.124|:443... connected.\n",
            "HTTP request sent, awaiting response... 200 OK\n",
            "Length: 1462074 (1.4M) [application/pdf]\n",
            "Saving to: ‘04a02.pdf’\n",
            "\n",
            "04a02.pdf           100%[===================>]   1.39M  5.31MB/s    in 0.3s    \n",
            "\n",
            "2024-07-12 02:29:34 (5.31 MB/s) - ‘04a02.pdf’ saved [1462074/1462074]\n",
            "\n",
            "--2024-07-12 02:29:35--  https://img.freepik.com/free-vector/hand-drawn-no-data-illustration_23-2150696455.jpg\n",
            "Resolving img.freepik.com (img.freepik.com)... 23.220.103.173, 23.220.103.170, 2600:1407:7400:1d::172e:1731, ...\n",
            "Connecting to img.freepik.com (img.freepik.com)|23.220.103.173|:443... connected.\n",
            "HTTP request sent, awaiting response... 200 OK\n",
            "Length: 32694 (32K) [image/jpeg]\n",
            "Saving to: ‘hand-drawn-no-data-illustration_23-2150696455.jpg’\n",
            "\n",
            "hand-drawn-no-data- 100%[===================>]  31.93K  --.-KB/s    in 0.1s    \n",
            "\n",
            "2024-07-12 02:29:35 (289 KB/s) - ‘hand-drawn-no-data-illustration_23-2150696455.jpg’ saved [32694/32694]\n",
            "\n"
          ]
        }
      ],
      "source": [
        "!wget https://www.hitachi.com/rev/archive/2023/r2023_04/pdf/04a02.pdf\n",
        "!wget https://img.freepik.com/free-vector/hand-drawn-no-data-illustration_23-2150696455.jpg\n",
        "\n",
        "# Create an \"Images\" directory if it doesn't exist\n",
        "Image_Path = \"./Images/\"\n",
        "if not os.path.exists(Image_Path):\n",
        "    os.makedirs(Image_Path)\n",
        "\n",
        "!mv hand-drawn-no-data-illustration_23-2150696455.jpg {Image_Path}/blank.jpg"
      ]
    },
    {
      "cell_type": "markdown",
      "metadata": {
        "id": "XPQ5eqaTcLP7"
      },
      "source": [
        "### Split PDF to images and extract data using Gemini Vision Pro\n"
      ]
    },
    {
      "cell_type": "code",
      "execution_count": null,
      "metadata": {
        "id": "-41JZgAwsWXi"
      },
      "outputs": [],
      "source": [
        "# Run the following code for each file\n",
        "PDF_FILENAME = \"035 Travel Sample Lesson.pdf\"  # Replace with your filename"
      ]
    },
    {
      "cell_type": "code",
      "execution_count": null,
      "metadata": {
        "id": "pSKL45w4O5ob",
        "colab": {
          "base_uri": "https://localhost:8080/",
          "height": 512
        },
        "outputId": "4a6d3640-5677-4e83-f26b-7199a9c2e9b2"
      },
      "outputs": [
        {
          "output_type": "stream",
          "name": "stdout",
          "text": [
            "processed image no: 0\n",
            "processed image no: 1\n",
            "processed image no: 2\n",
            "processed image no: 3\n",
            "processed image no: 4\n",
            "429 Quota exceeded for aiplatform.googleapis.com/generate_content_requests_per_minute_per_project_per_base_model with base model: gemini-pro-vision. Please submit a quota increase request. https://cloud.google.com/vertex-ai/docs/generative-ai/quotas-genai.\n",
            "Taking Some Rest\n",
            "429 Quota exceeded for aiplatform.googleapis.com/generate_content_requests_per_minute_per_project_per_base_model with base model: gemini-pro-vision. Please submit a quota increase request. https://cloud.google.com/vertex-ai/docs/generative-ai/quotas-genai.\n",
            "Taking Some Rest\n",
            "429 Quota exceeded for aiplatform.googleapis.com/generate_content_requests_per_minute_per_project_per_base_model with base model: gemini-pro-vision. Please submit a quota increase request. https://cloud.google.com/vertex-ai/docs/generative-ai/quotas-genai.\n",
            "Taking Some Rest\n",
            "429 Quota exceeded for aiplatform.googleapis.com/generate_content_requests_per_minute_per_project_per_base_model with base model: gemini-pro-vision. Please submit a quota increase request. https://cloud.google.com/vertex-ai/docs/generative-ai/quotas-genai.\n",
            "Taking Some Rest\n",
            "429 Quota exceeded for aiplatform.googleapis.com/generate_content_requests_per_minute_per_project_per_base_model with base model: gemini-pro-vision. Please submit a quota increase request. https://cloud.google.com/vertex-ai/docs/generative-ai/quotas-genai.\n",
            "Taking Some Rest\n",
            "Cannot process image no: ./Images/035 Travel Sample Lesson.pdf_0.jpg\n"
          ]
        },
        {
          "output_type": "execute_result",
          "data": {
            "text/plain": [
              "   page_id                                  page_source  \\\n",
              "0        0  ./Images/035 Travel Sample Lesson.pdf_1.jpg   \n",
              "1        1  ./Images/035 Travel Sample Lesson.pdf_4.jpg   \n",
              "2        2  ./Images/035 Travel Sample Lesson.pdf_2.jpg   \n",
              "3        3  ./Images/035 Travel Sample Lesson.pdf_3.jpg   \n",
              "4        4                           ./Images/blank.jpg   \n",
              "\n",
              "                                        page_content  \n",
              "0   needs and wants from their customers. As a tr...  \n",
              "1   Another characteristic of tour operators is t...  \n",
              "2   Escorted Tours\\nAn escorted tour can be defin...  \n",
              "3   an air and land tour. The tour company will u...  \n",
              "4   ?\\n?\\nX\\n | Header 1 | Header 2 |\\n|---|---|\\...  "
            ],
            "text/html": [
              "\n",
              "  <div id=\"df-c85431fa-be5d-4412-b162-d2fe6acd45af\" class=\"colab-df-container\">\n",
              "    <div>\n",
              "<style scoped>\n",
              "    .dataframe tbody tr th:only-of-type {\n",
              "        vertical-align: middle;\n",
              "    }\n",
              "\n",
              "    .dataframe tbody tr th {\n",
              "        vertical-align: top;\n",
              "    }\n",
              "\n",
              "    .dataframe thead th {\n",
              "        text-align: right;\n",
              "    }\n",
              "</style>\n",
              "<table border=\"1\" class=\"dataframe\">\n",
              "  <thead>\n",
              "    <tr style=\"text-align: right;\">\n",
              "      <th></th>\n",
              "      <th>page_id</th>\n",
              "      <th>page_source</th>\n",
              "      <th>page_content</th>\n",
              "    </tr>\n",
              "  </thead>\n",
              "  <tbody>\n",
              "    <tr>\n",
              "      <th>0</th>\n",
              "      <td>0</td>\n",
              "      <td>./Images/035 Travel Sample Lesson.pdf_1.jpg</td>\n",
              "      <td>needs and wants from their customers. As a tr...</td>\n",
              "    </tr>\n",
              "    <tr>\n",
              "      <th>1</th>\n",
              "      <td>1</td>\n",
              "      <td>./Images/035 Travel Sample Lesson.pdf_4.jpg</td>\n",
              "      <td>Another characteristic of tour operators is t...</td>\n",
              "    </tr>\n",
              "    <tr>\n",
              "      <th>2</th>\n",
              "      <td>2</td>\n",
              "      <td>./Images/035 Travel Sample Lesson.pdf_2.jpg</td>\n",
              "      <td>Escorted Tours\\nAn escorted tour can be defin...</td>\n",
              "    </tr>\n",
              "    <tr>\n",
              "      <th>3</th>\n",
              "      <td>3</td>\n",
              "      <td>./Images/035 Travel Sample Lesson.pdf_3.jpg</td>\n",
              "      <td>an air and land tour. The tour company will u...</td>\n",
              "    </tr>\n",
              "    <tr>\n",
              "      <th>4</th>\n",
              "      <td>4</td>\n",
              "      <td>./Images/blank.jpg</td>\n",
              "      <td>?\\n?\\nX\\n | Header 1 | Header 2 |\\n|---|---|\\...</td>\n",
              "    </tr>\n",
              "  </tbody>\n",
              "</table>\n",
              "</div>\n",
              "    <div class=\"colab-df-buttons\">\n",
              "\n",
              "  <div class=\"colab-df-container\">\n",
              "    <button class=\"colab-df-convert\" onclick=\"convertToInteractive('df-c85431fa-be5d-4412-b162-d2fe6acd45af')\"\n",
              "            title=\"Convert this dataframe to an interactive table.\"\n",
              "            style=\"display:none;\">\n",
              "\n",
              "  <svg xmlns=\"http://www.w3.org/2000/svg\" height=\"24px\" viewBox=\"0 -960 960 960\">\n",
              "    <path d=\"M120-120v-720h720v720H120Zm60-500h600v-160H180v160Zm220 220h160v-160H400v160Zm0 220h160v-160H400v160ZM180-400h160v-160H180v160Zm440 0h160v-160H620v160ZM180-180h160v-160H180v160Zm440 0h160v-160H620v160Z\"/>\n",
              "  </svg>\n",
              "    </button>\n",
              "\n",
              "  <style>\n",
              "    .colab-df-container {\n",
              "      display:flex;\n",
              "      gap: 12px;\n",
              "    }\n",
              "\n",
              "    .colab-df-convert {\n",
              "      background-color: #E8F0FE;\n",
              "      border: none;\n",
              "      border-radius: 50%;\n",
              "      cursor: pointer;\n",
              "      display: none;\n",
              "      fill: #1967D2;\n",
              "      height: 32px;\n",
              "      padding: 0 0 0 0;\n",
              "      width: 32px;\n",
              "    }\n",
              "\n",
              "    .colab-df-convert:hover {\n",
              "      background-color: #E2EBFA;\n",
              "      box-shadow: 0px 1px 2px rgba(60, 64, 67, 0.3), 0px 1px 3px 1px rgba(60, 64, 67, 0.15);\n",
              "      fill: #174EA6;\n",
              "    }\n",
              "\n",
              "    .colab-df-buttons div {\n",
              "      margin-bottom: 4px;\n",
              "    }\n",
              "\n",
              "    [theme=dark] .colab-df-convert {\n",
              "      background-color: #3B4455;\n",
              "      fill: #D2E3FC;\n",
              "    }\n",
              "\n",
              "    [theme=dark] .colab-df-convert:hover {\n",
              "      background-color: #434B5C;\n",
              "      box-shadow: 0px 1px 3px 1px rgba(0, 0, 0, 0.15);\n",
              "      filter: drop-shadow(0px 1px 2px rgba(0, 0, 0, 0.3));\n",
              "      fill: #FFFFFF;\n",
              "    }\n",
              "  </style>\n",
              "\n",
              "    <script>\n",
              "      const buttonEl =\n",
              "        document.querySelector('#df-c85431fa-be5d-4412-b162-d2fe6acd45af button.colab-df-convert');\n",
              "      buttonEl.style.display =\n",
              "        google.colab.kernel.accessAllowed ? 'block' : 'none';\n",
              "\n",
              "      async function convertToInteractive(key) {\n",
              "        const element = document.querySelector('#df-c85431fa-be5d-4412-b162-d2fe6acd45af');\n",
              "        const dataTable =\n",
              "          await google.colab.kernel.invokeFunction('convertToInteractive',\n",
              "                                                    [key], {});\n",
              "        if (!dataTable) return;\n",
              "\n",
              "        const docLinkHtml = 'Like what you see? Visit the ' +\n",
              "          '<a target=\"_blank\" href=https://colab.research.google.com/notebooks/data_table.ipynb>data table notebook</a>'\n",
              "          + ' to learn more about interactive tables.';\n",
              "        element.innerHTML = '';\n",
              "        dataTable['output_type'] = 'display_data';\n",
              "        await google.colab.output.renderOutput(dataTable, element);\n",
              "        const docLink = document.createElement('div');\n",
              "        docLink.innerHTML = docLinkHtml;\n",
              "        element.appendChild(docLink);\n",
              "      }\n",
              "    </script>\n",
              "  </div>\n",
              "\n",
              "\n",
              "<div id=\"df-33a68463-8581-416d-851f-d666d3383c6f\">\n",
              "  <button class=\"colab-df-quickchart\" onclick=\"quickchart('df-33a68463-8581-416d-851f-d666d3383c6f')\"\n",
              "            title=\"Suggest charts\"\n",
              "            style=\"display:none;\">\n",
              "\n",
              "<svg xmlns=\"http://www.w3.org/2000/svg\" height=\"24px\"viewBox=\"0 0 24 24\"\n",
              "     width=\"24px\">\n",
              "    <g>\n",
              "        <path d=\"M19 3H5c-1.1 0-2 .9-2 2v14c0 1.1.9 2 2 2h14c1.1 0 2-.9 2-2V5c0-1.1-.9-2-2-2zM9 17H7v-7h2v7zm4 0h-2V7h2v10zm4 0h-2v-4h2v4z\"/>\n",
              "    </g>\n",
              "</svg>\n",
              "  </button>\n",
              "\n",
              "<style>\n",
              "  .colab-df-quickchart {\n",
              "      --bg-color: #E8F0FE;\n",
              "      --fill-color: #1967D2;\n",
              "      --hover-bg-color: #E2EBFA;\n",
              "      --hover-fill-color: #174EA6;\n",
              "      --disabled-fill-color: #AAA;\n",
              "      --disabled-bg-color: #DDD;\n",
              "  }\n",
              "\n",
              "  [theme=dark] .colab-df-quickchart {\n",
              "      --bg-color: #3B4455;\n",
              "      --fill-color: #D2E3FC;\n",
              "      --hover-bg-color: #434B5C;\n",
              "      --hover-fill-color: #FFFFFF;\n",
              "      --disabled-bg-color: #3B4455;\n",
              "      --disabled-fill-color: #666;\n",
              "  }\n",
              "\n",
              "  .colab-df-quickchart {\n",
              "    background-color: var(--bg-color);\n",
              "    border: none;\n",
              "    border-radius: 50%;\n",
              "    cursor: pointer;\n",
              "    display: none;\n",
              "    fill: var(--fill-color);\n",
              "    height: 32px;\n",
              "    padding: 0;\n",
              "    width: 32px;\n",
              "  }\n",
              "\n",
              "  .colab-df-quickchart:hover {\n",
              "    background-color: var(--hover-bg-color);\n",
              "    box-shadow: 0 1px 2px rgba(60, 64, 67, 0.3), 0 1px 3px 1px rgba(60, 64, 67, 0.15);\n",
              "    fill: var(--button-hover-fill-color);\n",
              "  }\n",
              "\n",
              "  .colab-df-quickchart-complete:disabled,\n",
              "  .colab-df-quickchart-complete:disabled:hover {\n",
              "    background-color: var(--disabled-bg-color);\n",
              "    fill: var(--disabled-fill-color);\n",
              "    box-shadow: none;\n",
              "  }\n",
              "\n",
              "  .colab-df-spinner {\n",
              "    border: 2px solid var(--fill-color);\n",
              "    border-color: transparent;\n",
              "    border-bottom-color: var(--fill-color);\n",
              "    animation:\n",
              "      spin 1s steps(1) infinite;\n",
              "  }\n",
              "\n",
              "  @keyframes spin {\n",
              "    0% {\n",
              "      border-color: transparent;\n",
              "      border-bottom-color: var(--fill-color);\n",
              "      border-left-color: var(--fill-color);\n",
              "    }\n",
              "    20% {\n",
              "      border-color: transparent;\n",
              "      border-left-color: var(--fill-color);\n",
              "      border-top-color: var(--fill-color);\n",
              "    }\n",
              "    30% {\n",
              "      border-color: transparent;\n",
              "      border-left-color: var(--fill-color);\n",
              "      border-top-color: var(--fill-color);\n",
              "      border-right-color: var(--fill-color);\n",
              "    }\n",
              "    40% {\n",
              "      border-color: transparent;\n",
              "      border-right-color: var(--fill-color);\n",
              "      border-top-color: var(--fill-color);\n",
              "    }\n",
              "    60% {\n",
              "      border-color: transparent;\n",
              "      border-right-color: var(--fill-color);\n",
              "    }\n",
              "    80% {\n",
              "      border-color: transparent;\n",
              "      border-right-color: var(--fill-color);\n",
              "      border-bottom-color: var(--fill-color);\n",
              "    }\n",
              "    90% {\n",
              "      border-color: transparent;\n",
              "      border-bottom-color: var(--fill-color);\n",
              "    }\n",
              "  }\n",
              "</style>\n",
              "\n",
              "  <script>\n",
              "    async function quickchart(key) {\n",
              "      const quickchartButtonEl =\n",
              "        document.querySelector('#' + key + ' button');\n",
              "      quickchartButtonEl.disabled = true;  // To prevent multiple clicks.\n",
              "      quickchartButtonEl.classList.add('colab-df-spinner');\n",
              "      try {\n",
              "        const charts = await google.colab.kernel.invokeFunction(\n",
              "            'suggestCharts', [key], {});\n",
              "      } catch (error) {\n",
              "        console.error('Error during call to suggestCharts:', error);\n",
              "      }\n",
              "      quickchartButtonEl.classList.remove('colab-df-spinner');\n",
              "      quickchartButtonEl.classList.add('colab-df-quickchart-complete');\n",
              "    }\n",
              "    (() => {\n",
              "      let quickchartButtonEl =\n",
              "        document.querySelector('#df-33a68463-8581-416d-851f-d666d3383c6f button');\n",
              "      quickchartButtonEl.style.display =\n",
              "        google.colab.kernel.accessAllowed ? 'block' : 'none';\n",
              "    })();\n",
              "  </script>\n",
              "</div>\n",
              "\n",
              "    </div>\n",
              "  </div>\n"
            ],
            "application/vnd.google.colaboratory.intrinsic+json": {
              "type": "dataframe",
              "variable_name": "df",
              "summary": "{\n  \"name\": \"df\",\n  \"rows\": 5,\n  \"fields\": [\n    {\n      \"column\": \"page_id\",\n      \"properties\": {\n        \"dtype\": \"number\",\n        \"std\": 1,\n        \"min\": 0,\n        \"max\": 4,\n        \"num_unique_values\": 5,\n        \"samples\": [\n          1,\n          4,\n          2\n        ],\n        \"semantic_type\": \"\",\n        \"description\": \"\"\n      }\n    },\n    {\n      \"column\": \"page_source\",\n      \"properties\": {\n        \"dtype\": \"string\",\n        \"num_unique_values\": 5,\n        \"samples\": [\n          \"./Images/035 Travel Sample Lesson.pdf_4.jpg\",\n          \"./Images/blank.jpg\",\n          \"./Images/035 Travel Sample Lesson.pdf_2.jpg\"\n        ],\n        \"semantic_type\": \"\",\n        \"description\": \"\"\n      }\n    },\n    {\n      \"column\": \"page_content\",\n      \"properties\": {\n        \"dtype\": \"string\",\n        \"num_unique_values\": 5,\n        \"samples\": [\n          \" Another characteristic of tour operators is that many operate\\nspecific ground services and other aspects of the tour at each\\ndestination. They may actually employ personnel such as\\ndrivers, escorts, and guides. Tour operators might also\\narrange tours that utilize tour guides at destinations such as\\nnational parks, wildlife reserves, and historic preservation\\nsites (Figure 2). They also often own their own motorcoach\\ntouring vehicles and in some cases, hotels or other accom-\\nmodations.\\nFIGURE 2-This guide is showing a tour group through the Florida Everglades.\\nThere are thousands of tour operators. A few examples\\ninclude American Express, Bennett Tours, Inc., Brendan\\nTours, Collette Tours, Cosmos, Educational Travel Services,\\nInc., EuroCruises, Inc., Globus, GoGo Worldwide Vacations,\\nInsight International Tours, Maupintour, Pacific Delight\\nTours, Inc., Rail Europe, TNT Vacations, and Trafalgar\\nTours, Inc.\\nTours and Vacation Packages\\n5\\n | |\\n| ----------- |\\n| Another characteristic of tour operators is that many operate specific ground services and other aspects of the tour at each destination. They may actually employ personnel such as drivers, escorts, and guides. Tour operators might also arrange tours that utilize tour guides at destinations such as national parks, wildlife reserves, and historic preservation sites (Figure 2). They also often own their own motorcoach touring vehicles and in some cases, hotels or other accommodations. |\\n|\\n| FIGURE 2-This guide is showing a tour group through the Florida Everglades. |\\n|\\n| There are thousands of tour operators. A few examples include American Express, Bennett Tours, Inc., Brendan Tours, Collette Tours, Cosmos, Educational Travel Services, Inc., EuroCruises, Inc., Globus, GoGo Worldwide Vacations, Insight International Tours, Maupintour, Pacific Delight Tours, Inc., Rail Europe, TNT Vacations, and Trafalgar Tours, Inc. |\",\n          \" ?\\n?\\nX\\n | Header 1 | Header 2 |\\n|---|---|\\n| Content 1.1 | Content 1.2 |\\n| Content 2.1 | Content 2.2 |\",\n          \" Escorted Tours\\nAn escorted tour can be defined as a trip taken by a group of\\npeople who travel together throughout most or all of the trip\\nby following an organized and prearranged itinerary. Most\\ntours include accommodations, most meals, sightseeing, and\\ntransportation. They also include the services of a professional\\ntour manager or escort who accompanies the group, and per-\\nhaps other transportation such as cruises or trains.\\nIndependent Tours\\nAn independent tour is a vacation package designed for those\\ntraveling independently who don't want to be part of an\\norganized group or itinerary. A package combines\\nmultiple travel elements in an all-inclusive price. The price\\nis usually lower than if the elements were purchased\\nseparately. Volume purchasing makes this possible.\\nAny two or more of the following can be part of a vacation\\npackage:\\n\\u2022\\nAir transportation\\n\\u2022\\nAccommodations\\n\\u2022\\nMeals\\n\\u2022 Motorcoach\\n\\u2022\\nRail or private vehicle\\n\\u2022\\nEntertainment\\n\\u2022\\nCar rental\\n\\u2022\\nAirport transfers\\n\\u2022\\nSightseeing\\n\\u2022\\nTickets to major attractions, theme parks, or theaters\\nAir transportation from and to the client's home city may\\nor may not be included in a published tour or vacation pack-\\nage; you must check each tour brochure carefully for this\\ninformation. If air transportation is included, it's called\\nTours and Vacation Packages\\n3\\n | Esorted Tours | Independent Tours |\\n| :--- | :--- |\\n| An escorted tour can be defined as a trip taken by a group of people who travel together throughout most or all of the trip by following an organized and prearranged itinerary. | An independent tour is a vacation package designed for those traveling independently who don't want to be part of an organized group or itinerary. |\\n| Most tours include accommodations, most meals, sightseeing, and transportation. | A package combines multiple travel elements in an all-inclusive price. |\\n| They also include the services of a professional tour manager or escort who accompanies the group, and perhaps other transportation such as cruises or trains. | The price is usually lower than if the elements were purchased separately. |\\n|  | Volume purchasing makes this possible. |\\n|  | Any two or more of the following can be part of a vacation package: |\\n|  | Air transportation |\\n|  | Accommodations |\\n|  | Meals |\\n|  | Motorcoach |\\n|  | Rail or private vehicle |\\n|  | Entertainment |\\n|  | Car rental |\\n|  | Airport transfers |\\n|  | Sightseeing |\\n|  | Tickets to major attractions, theme parks, or theaters |\\n|  | Air transportation from and to the client's home city may or may not be included in a published tour or vacation package; you must check each tour brochure carefully for this information. |\\n|  | If air transportation is included, it's called |\"\n        ],\n        \"semantic_type\": \"\",\n        \"description\": \"\"\n      }\n    }\n  ]\n}"
            }
          },
          "metadata": {},
          "execution_count": 36
        }
      ],
      "source": [
        "# To enhance resolution\n",
        "zoom_x = 2.0  # horizontal zoom\n",
        "zoom_y = 2.0  # vertical zoom\n",
        "mat = fitz.Matrix(zoom_x, zoom_y)\n",
        "\n",
        "doc = fitz.open(PDF_FILENAME)\n",
        "for page in doc:\n",
        "    pix = page.get_pixmap(matrix=mat)\n",
        "    outpath = f\"./Images/{PDF_FILENAME}_{page.number}.jpg\"\n",
        "    pix.save(outpath)\n",
        "\n",
        "\n",
        "image_names = os.listdir(Image_Path)\n",
        "Max_images = len(image_names)\n",
        "\n",
        "\n",
        "page_source = []\n",
        "page_content = []\n",
        "page_id = []\n",
        "\n",
        "p_id = 0\n",
        "rest_count = 0\n",
        "\n",
        "while p_id < Max_images:\n",
        "    try:\n",
        "\n",
        "        image_path = Image_Path + image_names[p_id]\n",
        "\n",
        "\n",
        "        image = Image.load_from_file(image_path)\n",
        "\n",
        "\n",
        "        prompt_text = \"Extract all text content in the image\"\n",
        "        prompt_table = (\n",
        "            \"Detect table in this image. Extract content maintaining the structure\"\n",
        "        )\n",
        "\n",
        "\n",
        "        contents = [image, prompt_text]\n",
        "        response = multimodal_model.generate_content(contents)\n",
        "        text_content = response.text\n",
        "\n",
        "\n",
        "        contents = [image, prompt_table]\n",
        "        response = multimodal_model.generate_content(contents)\n",
        "        table_content = response.text\n",
        "\n",
        "\n",
        "        print(f\"processed image no: {p_id}\")\n",
        "        page_source.append(image_path)\n",
        "        page_content.append(text_content + \"\\n\" + table_content)\n",
        "        page_id.append(p_id)\n",
        "        p_id += 1\n",
        "\n",
        "    except Exception as err:\n",
        "\n",
        "        print(err)\n",
        "        print(\"Taking Some Rest\")\n",
        "        time.sleep(1)\n",
        "        rest_count += 1\n",
        "        if rest_count == 5:\n",
        "            rest_count = 0\n",
        "            print(f\"Cannot process image no: {image_path}\")\n",
        "            p_id += 1\n",
        "\n",
        "df = pd.DataFrame(\n",
        "    {\"page_id\": page_id, \"page_source\": page_source, \"page_content\": page_content}\n",
        ")\n",
        "df.head()"
      ]
    },
    {
      "cell_type": "markdown",
      "metadata": {
        "id": "ECB4ixV6VF0B"
      },
      "source": [
        "# Generate Text Embeddings\n",
        "Using gecko"
      ]
    },
    {
      "cell_type": "code",
      "execution_count": null,
      "metadata": {
        "id": "kHtZhmkYVCFP",
        "colab": {
          "base_uri": "https://localhost:8080/",
          "height": 329
        },
        "outputId": "b4bdd4bc-2713-4d8f-ee99-a88456f76b7c"
      },
      "outputs": [
        {
          "output_type": "stream",
          "name": "stdout",
          "text": [
            "# of documents loaded (pre-chunking) = 5\n",
            "# of documents = 5\n"
          ]
        },
        {
          "output_type": "execute_result",
          "data": {
            "text/plain": [
              "                                     id  \\\n",
              "0  36a4d01c-032a-49cd-9758-0b47531d75ab   \n",
              "1  67091fe1-7812-4871-afec-555d1817c917   \n",
              "2  715d6807-a929-45a6-9acf-4a3ba159b767   \n",
              "3  282884e5-506b-4e60-bca8-2658cebea359   \n",
              "4  757379fd-1e58-4567-af68-4729848f03c9   \n",
              "\n",
              "                                           embedding  \\\n",
              "0  [0.028441298753023148, -0.03281616047024727, -...   \n",
              "1  [0.025769606232643127, -0.056975144892930984, ...   \n",
              "2  [0.03668646141886711, -0.06587941944599152, -0...   \n",
              "3  [0.02981729619204998, -0.05722003057599068, -0...   \n",
              "4  [0.035372667014598846, -0.09204703569412231, -...   \n",
              "\n",
              "                                   page_source  \\\n",
              "0  ./Images/035 Travel Sample Lesson.pdf_1.jpg   \n",
              "1  ./Images/035 Travel Sample Lesson.pdf_4.jpg   \n",
              "2  ./Images/035 Travel Sample Lesson.pdf_2.jpg   \n",
              "3  ./Images/035 Travel Sample Lesson.pdf_3.jpg   \n",
              "4                           ./Images/blank.jpg   \n",
              "\n",
              "                                                text  \n",
              "0  needs and wants from their customers. As a tra...  \n",
              "1  Another characteristic of tour operators is th...  \n",
              "2  Escorted Tours\\nAn escorted tour can be define...  \n",
              "3  an air and land tour. The tour company will us...  \n",
              "4  ?\\n?\\nX\\n | Header 1 | Header 2 |\\n|---|---|\\n...  "
            ],
            "text/html": [
              "\n",
              "  <div id=\"df-47d8be54-090e-401d-88e7-0b5071823a1d\" class=\"colab-df-container\">\n",
              "    <div>\n",
              "<style scoped>\n",
              "    .dataframe tbody tr th:only-of-type {\n",
              "        vertical-align: middle;\n",
              "    }\n",
              "\n",
              "    .dataframe tbody tr th {\n",
              "        vertical-align: top;\n",
              "    }\n",
              "\n",
              "    .dataframe thead th {\n",
              "        text-align: right;\n",
              "    }\n",
              "</style>\n",
              "<table border=\"1\" class=\"dataframe\">\n",
              "  <thead>\n",
              "    <tr style=\"text-align: right;\">\n",
              "      <th></th>\n",
              "      <th>id</th>\n",
              "      <th>embedding</th>\n",
              "      <th>page_source</th>\n",
              "      <th>text</th>\n",
              "    </tr>\n",
              "  </thead>\n",
              "  <tbody>\n",
              "    <tr>\n",
              "      <th>0</th>\n",
              "      <td>36a4d01c-032a-49cd-9758-0b47531d75ab</td>\n",
              "      <td>[0.028441298753023148, -0.03281616047024727, -...</td>\n",
              "      <td>./Images/035 Travel Sample Lesson.pdf_1.jpg</td>\n",
              "      <td>needs and wants from their customers. As a tra...</td>\n",
              "    </tr>\n",
              "    <tr>\n",
              "      <th>1</th>\n",
              "      <td>67091fe1-7812-4871-afec-555d1817c917</td>\n",
              "      <td>[0.025769606232643127, -0.056975144892930984, ...</td>\n",
              "      <td>./Images/035 Travel Sample Lesson.pdf_4.jpg</td>\n",
              "      <td>Another characteristic of tour operators is th...</td>\n",
              "    </tr>\n",
              "    <tr>\n",
              "      <th>2</th>\n",
              "      <td>715d6807-a929-45a6-9acf-4a3ba159b767</td>\n",
              "      <td>[0.03668646141886711, -0.06587941944599152, -0...</td>\n",
              "      <td>./Images/035 Travel Sample Lesson.pdf_2.jpg</td>\n",
              "      <td>Escorted Tours\\nAn escorted tour can be define...</td>\n",
              "    </tr>\n",
              "    <tr>\n",
              "      <th>3</th>\n",
              "      <td>282884e5-506b-4e60-bca8-2658cebea359</td>\n",
              "      <td>[0.02981729619204998, -0.05722003057599068, -0...</td>\n",
              "      <td>./Images/035 Travel Sample Lesson.pdf_3.jpg</td>\n",
              "      <td>an air and land tour. The tour company will us...</td>\n",
              "    </tr>\n",
              "    <tr>\n",
              "      <th>4</th>\n",
              "      <td>757379fd-1e58-4567-af68-4729848f03c9</td>\n",
              "      <td>[0.035372667014598846, -0.09204703569412231, -...</td>\n",
              "      <td>./Images/blank.jpg</td>\n",
              "      <td>?\\n?\\nX\\n | Header 1 | Header 2 |\\n|---|---|\\n...</td>\n",
              "    </tr>\n",
              "  </tbody>\n",
              "</table>\n",
              "</div>\n",
              "    <div class=\"colab-df-buttons\">\n",
              "\n",
              "  <div class=\"colab-df-container\">\n",
              "    <button class=\"colab-df-convert\" onclick=\"convertToInteractive('df-47d8be54-090e-401d-88e7-0b5071823a1d')\"\n",
              "            title=\"Convert this dataframe to an interactive table.\"\n",
              "            style=\"display:none;\">\n",
              "\n",
              "  <svg xmlns=\"http://www.w3.org/2000/svg\" height=\"24px\" viewBox=\"0 -960 960 960\">\n",
              "    <path d=\"M120-120v-720h720v720H120Zm60-500h600v-160H180v160Zm220 220h160v-160H400v160Zm0 220h160v-160H400v160ZM180-400h160v-160H180v160Zm440 0h160v-160H620v160ZM180-180h160v-160H180v160Zm440 0h160v-160H620v160Z\"/>\n",
              "  </svg>\n",
              "    </button>\n",
              "\n",
              "  <style>\n",
              "    .colab-df-container {\n",
              "      display:flex;\n",
              "      gap: 12px;\n",
              "    }\n",
              "\n",
              "    .colab-df-convert {\n",
              "      background-color: #E8F0FE;\n",
              "      border: none;\n",
              "      border-radius: 50%;\n",
              "      cursor: pointer;\n",
              "      display: none;\n",
              "      fill: #1967D2;\n",
              "      height: 32px;\n",
              "      padding: 0 0 0 0;\n",
              "      width: 32px;\n",
              "    }\n",
              "\n",
              "    .colab-df-convert:hover {\n",
              "      background-color: #E2EBFA;\n",
              "      box-shadow: 0px 1px 2px rgba(60, 64, 67, 0.3), 0px 1px 3px 1px rgba(60, 64, 67, 0.15);\n",
              "      fill: #174EA6;\n",
              "    }\n",
              "\n",
              "    .colab-df-buttons div {\n",
              "      margin-bottom: 4px;\n",
              "    }\n",
              "\n",
              "    [theme=dark] .colab-df-convert {\n",
              "      background-color: #3B4455;\n",
              "      fill: #D2E3FC;\n",
              "    }\n",
              "\n",
              "    [theme=dark] .colab-df-convert:hover {\n",
              "      background-color: #434B5C;\n",
              "      box-shadow: 0px 1px 3px 1px rgba(0, 0, 0, 0.15);\n",
              "      filter: drop-shadow(0px 1px 2px rgba(0, 0, 0, 0.3));\n",
              "      fill: #FFFFFF;\n",
              "    }\n",
              "  </style>\n",
              "\n",
              "    <script>\n",
              "      const buttonEl =\n",
              "        document.querySelector('#df-47d8be54-090e-401d-88e7-0b5071823a1d button.colab-df-convert');\n",
              "      buttonEl.style.display =\n",
              "        google.colab.kernel.accessAllowed ? 'block' : 'none';\n",
              "\n",
              "      async function convertToInteractive(key) {\n",
              "        const element = document.querySelector('#df-47d8be54-090e-401d-88e7-0b5071823a1d');\n",
              "        const dataTable =\n",
              "          await google.colab.kernel.invokeFunction('convertToInteractive',\n",
              "                                                    [key], {});\n",
              "        if (!dataTable) return;\n",
              "\n",
              "        const docLinkHtml = 'Like what you see? Visit the ' +\n",
              "          '<a target=\"_blank\" href=https://colab.research.google.com/notebooks/data_table.ipynb>data table notebook</a>'\n",
              "          + ' to learn more about interactive tables.';\n",
              "        element.innerHTML = '';\n",
              "        dataTable['output_type'] = 'display_data';\n",
              "        await google.colab.output.renderOutput(dataTable, element);\n",
              "        const docLink = document.createElement('div');\n",
              "        docLink.innerHTML = docLinkHtml;\n",
              "        element.appendChild(docLink);\n",
              "      }\n",
              "    </script>\n",
              "  </div>\n",
              "\n",
              "\n",
              "<div id=\"df-3d68ab9a-dcb6-468e-9f5e-86812ff41730\">\n",
              "  <button class=\"colab-df-quickchart\" onclick=\"quickchart('df-3d68ab9a-dcb6-468e-9f5e-86812ff41730')\"\n",
              "            title=\"Suggest charts\"\n",
              "            style=\"display:none;\">\n",
              "\n",
              "<svg xmlns=\"http://www.w3.org/2000/svg\" height=\"24px\"viewBox=\"0 0 24 24\"\n",
              "     width=\"24px\">\n",
              "    <g>\n",
              "        <path d=\"M19 3H5c-1.1 0-2 .9-2 2v14c0 1.1.9 2 2 2h14c1.1 0 2-.9 2-2V5c0-1.1-.9-2-2-2zM9 17H7v-7h2v7zm4 0h-2V7h2v10zm4 0h-2v-4h2v4z\"/>\n",
              "    </g>\n",
              "</svg>\n",
              "  </button>\n",
              "\n",
              "<style>\n",
              "  .colab-df-quickchart {\n",
              "      --bg-color: #E8F0FE;\n",
              "      --fill-color: #1967D2;\n",
              "      --hover-bg-color: #E2EBFA;\n",
              "      --hover-fill-color: #174EA6;\n",
              "      --disabled-fill-color: #AAA;\n",
              "      --disabled-bg-color: #DDD;\n",
              "  }\n",
              "\n",
              "  [theme=dark] .colab-df-quickchart {\n",
              "      --bg-color: #3B4455;\n",
              "      --fill-color: #D2E3FC;\n",
              "      --hover-bg-color: #434B5C;\n",
              "      --hover-fill-color: #FFFFFF;\n",
              "      --disabled-bg-color: #3B4455;\n",
              "      --disabled-fill-color: #666;\n",
              "  }\n",
              "\n",
              "  .colab-df-quickchart {\n",
              "    background-color: var(--bg-color);\n",
              "    border: none;\n",
              "    border-radius: 50%;\n",
              "    cursor: pointer;\n",
              "    display: none;\n",
              "    fill: var(--fill-color);\n",
              "    height: 32px;\n",
              "    padding: 0;\n",
              "    width: 32px;\n",
              "  }\n",
              "\n",
              "  .colab-df-quickchart:hover {\n",
              "    background-color: var(--hover-bg-color);\n",
              "    box-shadow: 0 1px 2px rgba(60, 64, 67, 0.3), 0 1px 3px 1px rgba(60, 64, 67, 0.15);\n",
              "    fill: var(--button-hover-fill-color);\n",
              "  }\n",
              "\n",
              "  .colab-df-quickchart-complete:disabled,\n",
              "  .colab-df-quickchart-complete:disabled:hover {\n",
              "    background-color: var(--disabled-bg-color);\n",
              "    fill: var(--disabled-fill-color);\n",
              "    box-shadow: none;\n",
              "  }\n",
              "\n",
              "  .colab-df-spinner {\n",
              "    border: 2px solid var(--fill-color);\n",
              "    border-color: transparent;\n",
              "    border-bottom-color: var(--fill-color);\n",
              "    animation:\n",
              "      spin 1s steps(1) infinite;\n",
              "  }\n",
              "\n",
              "  @keyframes spin {\n",
              "    0% {\n",
              "      border-color: transparent;\n",
              "      border-bottom-color: var(--fill-color);\n",
              "      border-left-color: var(--fill-color);\n",
              "    }\n",
              "    20% {\n",
              "      border-color: transparent;\n",
              "      border-left-color: var(--fill-color);\n",
              "      border-top-color: var(--fill-color);\n",
              "    }\n",
              "    30% {\n",
              "      border-color: transparent;\n",
              "      border-left-color: var(--fill-color);\n",
              "      border-top-color: var(--fill-color);\n",
              "      border-right-color: var(--fill-color);\n",
              "    }\n",
              "    40% {\n",
              "      border-color: transparent;\n",
              "      border-right-color: var(--fill-color);\n",
              "      border-top-color: var(--fill-color);\n",
              "    }\n",
              "    60% {\n",
              "      border-color: transparent;\n",
              "      border-right-color: var(--fill-color);\n",
              "    }\n",
              "    80% {\n",
              "      border-color: transparent;\n",
              "      border-right-color: var(--fill-color);\n",
              "      border-bottom-color: var(--fill-color);\n",
              "    }\n",
              "    90% {\n",
              "      border-color: transparent;\n",
              "      border-bottom-color: var(--fill-color);\n",
              "    }\n",
              "  }\n",
              "</style>\n",
              "\n",
              "  <script>\n",
              "    async function quickchart(key) {\n",
              "      const quickchartButtonEl =\n",
              "        document.querySelector('#' + key + ' button');\n",
              "      quickchartButtonEl.disabled = true;  // To prevent multiple clicks.\n",
              "      quickchartButtonEl.classList.add('colab-df-spinner');\n",
              "      try {\n",
              "        const charts = await google.colab.kernel.invokeFunction(\n",
              "            'suggestCharts', [key], {});\n",
              "      } catch (error) {\n",
              "        console.error('Error during call to suggestCharts:', error);\n",
              "      }\n",
              "      quickchartButtonEl.classList.remove('colab-df-spinner');\n",
              "      quickchartButtonEl.classList.add('colab-df-quickchart-complete');\n",
              "    }\n",
              "    (() => {\n",
              "      let quickchartButtonEl =\n",
              "        document.querySelector('#df-3d68ab9a-dcb6-468e-9f5e-86812ff41730 button');\n",
              "      quickchartButtonEl.style.display =\n",
              "        google.colab.kernel.accessAllowed ? 'block' : 'none';\n",
              "    })();\n",
              "  </script>\n",
              "</div>\n",
              "\n",
              "    </div>\n",
              "  </div>\n"
            ],
            "application/vnd.google.colaboratory.intrinsic+json": {
              "type": "dataframe",
              "variable_name": "embedding_df",
              "summary": "{\n  \"name\": \"embedding_df\",\n  \"rows\": 5,\n  \"fields\": [\n    {\n      \"column\": \"id\",\n      \"properties\": {\n        \"dtype\": \"string\",\n        \"num_unique_values\": 5,\n        \"samples\": [\n          \"67091fe1-7812-4871-afec-555d1817c917\",\n          \"757379fd-1e58-4567-af68-4729848f03c9\",\n          \"715d6807-a929-45a6-9acf-4a3ba159b767\"\n        ],\n        \"semantic_type\": \"\",\n        \"description\": \"\"\n      }\n    },\n    {\n      \"column\": \"embedding\",\n      \"properties\": {\n        \"dtype\": \"object\",\n        \"semantic_type\": \"\",\n        \"description\": \"\"\n      }\n    },\n    {\n      \"column\": \"page_source\",\n      \"properties\": {\n        \"dtype\": \"string\",\n        \"num_unique_values\": 5,\n        \"samples\": [\n          \"./Images/035 Travel Sample Lesson.pdf_4.jpg\",\n          \"./Images/blank.jpg\",\n          \"./Images/035 Travel Sample Lesson.pdf_2.jpg\"\n        ],\n        \"semantic_type\": \"\",\n        \"description\": \"\"\n      }\n    },\n    {\n      \"column\": \"text\",\n      \"properties\": {\n        \"dtype\": \"string\",\n        \"num_unique_values\": 5,\n        \"samples\": [\n          \"Another characteristic of tour operators is that many operate\\nspecific ground services and other aspects of the tour at each\\ndestination. They may actually employ personnel such as\\ndrivers, escorts, and guides. Tour operators might also\\narrange tours that utilize tour guides at destinations such as\\nnational parks, wildlife reserves, and historic preservation\\nsites (Figure 2). They also often own their own motorcoach\\ntouring vehicles and in some cases, hotels or other accom-\\nmodations.\\nFIGURE 2-This guide is showing a tour group through the Florida Everglades.\\nThere are thousands of tour operators. A few examples\\ninclude American Express, Bennett Tours, Inc., Brendan\\nTours, Collette Tours, Cosmos, Educational Travel Services,\\nInc., EuroCruises, Inc., Globus, GoGo Worldwide Vacations,\\nInsight International Tours, Maupintour, Pacific Delight\\nTours, Inc., Rail Europe, TNT Vacations, and Trafalgar\\nTours, Inc.\\nTours and Vacation Packages\\n5\\n | |\\n| ----------- |\\n| Another characteristic of tour operators is that many operate specific ground services and other aspects of the tour at each destination. They may actually employ personnel such as drivers, escorts, and guides. Tour operators might also arrange tours that utilize tour guides at destinations such as national parks, wildlife reserves, and historic preservation sites (Figure 2). They also often own their own motorcoach touring vehicles and in some cases, hotels or other accommodations. |\\n|\\n| FIGURE 2-This guide is showing a tour group through the Florida Everglades. |\\n|\\n| There are thousands of tour operators. A few examples include American Express, Bennett Tours, Inc., Brendan Tours, Collette Tours, Cosmos, Educational Travel Services, Inc., EuroCruises, Inc., Globus, GoGo Worldwide Vacations, Insight International Tours, Maupintour, Pacific Delight Tours, Inc., Rail Europe, TNT Vacations, and Trafalgar Tours, Inc. |\",\n          \"?\\n?\\nX\\n | Header 1 | Header 2 |\\n|---|---|\\n| Content 1.1 | Content 1.2 |\\n| Content 2.1 | Content 2.2 |\",\n          \"Escorted Tours\\nAn escorted tour can be defined as a trip taken by a group of\\npeople who travel together throughout most or all of the trip\\nby following an organized and prearranged itinerary. Most\\ntours include accommodations, most meals, sightseeing, and\\ntransportation. They also include the services of a professional\\ntour manager or escort who accompanies the group, and per-\\nhaps other transportation such as cruises or trains.\\nIndependent Tours\\nAn independent tour is a vacation package designed for those\\ntraveling independently who don't want to be part of an\\norganized group or itinerary. A package combines\\nmultiple travel elements in an all-inclusive price. The price\\nis usually lower than if the elements were purchased\\nseparately. Volume purchasing makes this possible.\\nAny two or more of the following can be part of a vacation\\npackage:\\n\\u2022\\nAir transportation\\n\\u2022\\nAccommodations\\n\\u2022\\nMeals\\n\\u2022 Motorcoach\\n\\u2022\\nRail or private vehicle\\n\\u2022\\nEntertainment\\n\\u2022\\nCar rental\\n\\u2022\\nAirport transfers\\n\\u2022\\nSightseeing\\n\\u2022\\nTickets to major attractions, theme parks, or theaters\\nAir transportation from and to the client's home city may\\nor may not be included in a published tour or vacation pack-\\nage; you must check each tour brochure carefully for this\\ninformation. If air transportation is included, it's called\\nTours and Vacation Packages\\n3\\n | Esorted Tours | Independent Tours |\\n| :--- | :--- |\\n| An escorted tour can be defined as a trip taken by a group of people who travel together throughout most or all of the trip by following an organized and prearranged itinerary. | An independent tour is a vacation package designed for those traveling independently who don't want to be part of an organized group or itinerary. |\\n| Most tours include accommodations, most meals, sightseeing, and transportation. | A package combines multiple travel elements in an all-inclusive price. |\\n| They also include the services of a professional tour manager or escort who accompanies the group, and perhaps other transportation such as cruises or trains. | The price is usually lower than if the elements were purchased separately. |\\n|  | Volume purchasing makes this possible. |\\n|  | Any two or more of the following can be part of a vacation package: |\\n|  | Air transportation |\\n|  | Accommodations |\\n|  | Meals |\\n|  | Motorcoach |\\n|  | Rail or private vehicle |\\n|  | Entertainment |\\n|  | Car rental |\\n|  | Airport transfers |\\n|  | Sightseeing |\\n|  | Tickets to major attractions, theme parks, or theaters |\\n|  | Air transportation from and to the client's home city may or may not be included in a published tour or vacation package; you must check each tour brochure carefully for this information. |\\n|  | If air transportation is included, it's called |\"\n        ],\n        \"semantic_type\": \"\",\n        \"description\": \"\"\n      }\n    }\n  ]\n}"
            }
          },
          "metadata": {},
          "execution_count": 37
        }
      ],
      "source": [
        "def generate_text_embedding(text) -> list:\n",
        "    \"\"\"Text embedding with a Large Language Model.\"\"\"\n",
        "    embeddings = text_embedding_model.get_embeddings([text])\n",
        "    vector = embeddings[0].values\n",
        "    return vector\n",
        "\n",
        "\n",
        "# Create a DataFrameLoader to prepare data for LangChain\n",
        "loader = DataFrameLoader(df, page_content_column=\"page_content\")\n",
        "\n",
        "# Load documents from the 'page_content' column of your DataFrame\n",
        "documents = loader.load()\n",
        "\n",
        "# Log the number of documents loaded\n",
        "print(f\"# of documents loaded (pre-chunking) = {len(documents)}\")\n",
        "\n",
        "# Create a text splitter to divide documents into smaller chunks\n",
        "text_splitter = CharacterTextSplitter(\n",
        "    chunk_size=10000,  # Target size of approximately 10000 characters per chunk\n",
        "    chunk_overlap=200,  # overlap between chunks\n",
        ")\n",
        "\n",
        "# Split the loaded documents\n",
        "doc_splits = text_splitter.split_documents(documents)\n",
        "\n",
        "# Add a 'chunk' ID to each document split's metadata for tracking\n",
        "for idx, split in enumerate(doc_splits):\n",
        "    split.metadata[\"chunk\"] = idx\n",
        "\n",
        "# Log the number of documents after splitting\n",
        "print(f\"# of documents = {len(doc_splits)}\")\n",
        "\n",
        "texts = [doc.page_content for doc in doc_splits]\n",
        "text_embeddings_list = []\n",
        "id_list = []\n",
        "page_source_list = []\n",
        "for doc in doc_splits:\n",
        "    id = uuid.uuid4()\n",
        "    text_embeddings_list.append(generate_text_embedding(doc.page_content))\n",
        "    id_list.append(str(id))\n",
        "    page_source_list.append(doc.metadata[\"page_source\"])\n",
        "    time.sleep(1)  # So that we don't run into Quota Issue\n",
        "\n",
        "# Creating a dataframe of ID, embeddings, page_source and text\n",
        "embedding_df = pd.DataFrame(\n",
        "    {\n",
        "        \"id\": id_list,\n",
        "        \"embedding\": text_embeddings_list,\n",
        "        \"page_source\": page_source_list,\n",
        "        \"text\": texts,\n",
        "    }\n",
        ")\n",
        "embedding_df.head()"
      ]
    },
    {
      "cell_type": "markdown",
      "metadata": {
        "id": "NQ2iLT3BG8vS"
      },
      "source": [
        "### Creating Vertex AI: Vector Search\n"
      ]
    },
    {
      "cell_type": "code",
      "execution_count": null,
      "metadata": {
        "id": "WtCRJeKsYc6w"
      },
      "outputs": [],
      "source": [
        "VECTOR_SEARCH_REGION = \"us-central1\"\n",
        "VECTOR_SEARCH_INDEX_NAME = f\"{PROJECT_ID}-vector-search-index-ht\"\n",
        "VECTOR_SEARCH_EMBEDDING_DIR = f\"{PROJECT_ID}-vector-search-bucket-ht\"\n",
        "VECTOR_SEARCH_DIMENSIONS = 768"
      ]
    },
    {
      "cell_type": "markdown",
      "metadata": {
        "id": "6pu1a3zjfQ0D"
      },
      "source": [
        "### Save the embeddings in a JSON file\n"
      ]
    },
    {
      "cell_type": "code",
      "execution_count": null,
      "metadata": {
        "id": "mSqVnRpqh7Yc",
        "colab": {
          "base_uri": "https://localhost:8080/"
        },
        "outputId": "1ab34d3b-e0fa-4d98-86aa-065cf0c5b113"
      },
      "outputs": [
        {
          "output_type": "stream",
          "name": "stdout",
          "text": [
            "{\"id\":\"36a4d01c-032a-49cd-9758-0b47531d75ab\",\"embedding\":[0.0284412988,-0.0328161605,-0.032952752,0.0020614653,0.0678828061,0.0537032075,0.0438779145,0.0338008851,0.002749193,0.0813499466,0.0196550675,-0.0135521749,-0.0110336896,-0.0153221088,0.0176866744,-0.0279095899,0.0056540631,-0.0078600897,0.0033493976,-0.0335726924,0.0180707369,-0.0153547805,0.0491289757,-0.0410641246,0.0187768918,-0.037819583,-0.0032892756,-0.006880308,0.0307572298,0.0361747555,-0.0879450738,0.0502055585,-0.0229742862,-0.0099860067,0.0262472313,-0.0025199899,-0.0078122672,0.0196272042,-0.0131823719,0.0655603334,-0.0119105782,-0.0149062322,-0.0548038706,-0.008415848,0.0529136658,-0.0763991997,-0.013715894,0.0279569048,0.0215943307,-0.0492258593,-0.0638225451,0.036653772,0.0058749183,0.0069461181,0.0151473442,-0.0342054777,0.0328579135,-0.0569913685,-0.0064678588,0.0079266699,0.0129243759,-0.0157848522,-0.0267481431,-0.0513765216,-0.0407022908,-0.0588051081,-0.0307470951,0.0703120828,0.067493245,-0.0041488055,-0.0242839605,-0.0361925513,0.051515054,0.0137288151,-0.0252123177,-0.0241194144,-0.0145913986,0.0252830423,0.0345876403,0.0044164923,-0.0187754128,-0.037520811,0.0237407405,-0.0215515867,-0.0593390055,0.0115824388,-0.0218349621,-0.0123575404,0.0173304696,0.0323315077,-0.0087018982,0.0275663305,-0.0271562543,-0.0381147452,-0.0399050303,0.0458191223,-0.0159235485,-0.0199054405,0.0303352065,-0.0627435818,-0.0010627527,-0.0450690836,-0.0181501172,0.0183372814,0.0171078984,-0.0060774884,-0.0078046522,0.0686895326,-0.0052501415,0.0396148525,-0.0706167072,-0.0259798989,0.0018306619,-0.0399025679,-0.0201611333,-0.0191446934,0.0079426272,0.0531168394,0.0582260191,0.0406702384,0.0205613412,-0.0046862126,0.0490956604,-0.0530510768,0.0320814438,-0.0131157432,0.0157328974,0.0007123739,0.0610580295,0.027955709,0.0152246235,-0.0762806684,-0.003241037,-0.0371966213,0.0330807753,0.0603036955,0.0768059716,-0.0156755131,0.0254643951,0.0526968725,-0.0108517073,-0.013913041,-0.048119247,0.0190984998,-0.0409964733,0.0492505394,-0.0115226517,0.0041826977,0.0414986759,-0.0264542252,0.0055132015,0.0711621121,-0.0320992842,-0.0014161188,0.0151694585,-0.0115179345,0.011311464,-0.0025046899,0.0101752356,0.0391051024,0.0407070816,0.0604783483,-0.0235177092,0.025775997,-0.075991042,-0.0342864133,-0.0290139504,-0.0338184237,-0.0055541527,0.0372152179,-0.0289850067,0.0581276976,-0.0412511639,-0.0203057695,0.007580624,-0.0378325209,0.0255985186,0.0057821702,-0.0423957929,-0.0352131464,-0.0452181473,-0.0342240073,0.0118643967,0.0385536142,0.0574270412,0.0103416946,0.0480573289,-0.033449892,-0.0277262256,0.048370868,-0.0171012692,-0.0078607593,-0.0377009585,0.0100955358,-0.0387529284,0.0669494048,-0.0082891136,0.0013305603,-0.0021647173,-0.0061003403,-0.0080032134,0.0930912942,0.0220228937,-0.0289041065,0.0469459109,0.0084330486,0.02403754,-0.070927076,-0.0642616376,0.0127535611,-0.0770383403,-0.0073967213,-0.0520350337,0.0152421072,0.0362127572,-0.0069723306,0.0265766066,0.0284607168,-0.0010094473,-0.0255100336,0.0062176031,0.0685164109,-0.0246929023,0.0641272888,0.0196600799,0.0131692588,-0.020439513,0.0274394639,0.0119242342,-0.0470324494,0.0320459455,0.099489823,0.0089245001,0.0002343037,0.024483826,0.0378255956,0.0075586946,0.0009009214,0.0044110236,0.0751789585,-0.0369705111,0.0268483274,0.0325147249,0.0425335728,-0.0201905835,0.0157974102,-0.0019442519,-0.0254527461,0.052409593,0.0325538926,-0.0017602016,-0.070608899,0.0007033944,0.0466285534,-0.0863679573,0.0398951061,-0.0345784836,0.0460679866,-0.0207596309,-0.0230726562,0.0163140744,-0.0100180898,-0.0094713662,0.0136308279,-0.0315532573,-0.0282353759,-0.03516002,-0.0136174662,0.0178721324,0.0450445041,-0.0190241188,-0.0380363911,0.0306269992,0.0104272729,0.0070657544,0.0145540684,-0.0317883678,0.0120487502,-0.0187991671,0.0075207986,-0.0119546726,0.0047625909,0.0682041496,0.000593911,-0.0459518246,0.0119863013,-0.0415168032,0.0169306453,0.008462036,-0.0059791375,-0.0194747448,-0.0309780892,-0.0492676273,-0.0743806884,-0.0192720871,-0.0361899324,0.0316374861,0.0515646264,-0.0089547308,-0.0211264454,0.0009164631,-0.0386708528,-0.0496068113,-0.1101105586,-0.0423793048,-0.0361924805,-0.0056980001,-0.0106634274,0.0032003645,0.010222178,0.0003741221,0.0258956067,-0.0118122995,0.0022194975,0.0865930319,0.1054605022,-0.0138378646,-0.007024765,0.0057936935,0.0440063551,0.030935118,0.0645353049,0.0376969986,-0.0068361489,-0.0202311594,-0.0167802833,-0.0415204652,0.005941133,0.0042136242,0.0274703167,-0.0594185032,-0.0174465906,0.0186349992,-0.0251429938,-0.029786,0.0069209444,-0.0662939101,0.027873097,-0.0576824583,0.0150350789,0.0717563033,-0.0529701412,0.0268557463,-0.0004610945,-0.0154616535,0.0062337113,-0.033380121,0.0660816208,0.0490287058,-0.0134803709,-0.0196289141,0.0707582682,-0.026404202,0.0013635354,0.0080557428,-0.0180953294,-0.0028634798,-0.0078362385,0.0559975728,-0.0566300675,-0.0500815809,0.0381149426,0.0071272706,0.0041103926,-0.02520057,0.0102285026,0.0188694727,0.0012122751,0.0085364673,0.0580034107,0.0190584492,-0.0425164476,0.0029616449,0.006217137,0.0320712514,-0.0590122938,-0.0295121633,-0.0042305347,-0.0057858583,0.0619677939,-0.0084589161,0.0136619536,0.0359848775,0.0096442625,0.014480372,0.0030020426,0.0110032391,0.0828179866,-0.0088065462,0.0486522987,0.0289090034,0.0332687981,0.1148427725,0.0338063352,-0.0125454143,-0.0697816536,-0.0675776824,-0.0337307863,-0.0083384169,0.0234457031,-0.0251183268,-0.0185355153,-0.0186670255,-0.0172012579,-0.0059924014,-0.0104256608,-0.0139394375,-0.0050075324,0.0017424279,0.0086327484,0.0100438073,-0.0309634879,0.0693864822,-0.079857707,-0.0222901367,0.0338605121,0.0032316819,-0.0262290742,-0.0035045929,-0.0117898248,0.0372446328,-0.0205167811,0.021917684,0.0146948062,-0.0454833992,-0.0498841554,0.0184824187,-0.0243397746,0.0189038422,-0.0153163457,0.043523524,-0.0267843772,0.0277161598,-0.0579421744,0.0195482951,-0.0168579612,0.0205837134,0.0267640837,-0.0306603238,0.0154058756,-0.0144830411,-0.0382653065,0.0319617651,-0.0339643173,-0.0667318851,-0.0245797802,-0.0690136105,-0.0413137563,0.0161017738,-0.0399049632,-0.0159193501,-0.105844304,-0.0534194186,-0.0373831764,0.0195303187,-0.03797419,-0.0133857904,0.0188753195,0.0489100106,-0.0210031494,0.0336291157,-0.0224257894,-0.0452609546,-0.0788897052,-0.0067557781,0.0137307001,0.0784739107,0.0302679092,0.0472235195,0.0366675742,0.0249323417,-0.0359179899,-0.0216573346,0.0324762836,0.0014126628,-0.041603528,-0.0304720458,0.0638745949,-0.1001614481,-0.0078961076,-0.011535936,-0.0005111179,0.0207722336,0.0167566575,-0.0269118231,0.0043794708,-0.0074713738,0.0125777675,-0.0013840084,0.052942466,0.0037279651,-0.015026195,-0.0135752046,-0.0260255747,-0.0276717879,-0.0211755969,-0.0215266272,0.0193862859,0.0277521722,0.0028856643,-0.0119210463,0.0137394909,-0.0040193317,0.001236198,0.040065892,-0.0583943836,0.0284075271,0.0054466478,-0.0526803657,-0.0077276323,-0.0324381776,0.0344952308,0.0113479383,-0.0156190405,0.0004617752,-0.0324923955,-0.0248201694,0.0259796306,0.001786892,-0.017741451,0.0064743976,-0.0000333588,-0.0582571886,-0.0271578562,0.0358633883,-0.0345162041,-0.017815046,-0.0208136402,-0.0474635959,0.0374373905,-0.0216448363,0.0620120652,0.0020026474,0.0093230372,-0.0277365036,-0.0091029415,-0.0282710306,0.0015744118,0.0391640291,-0.0308889057,-0.0032085208,-0.0131716719,0.0723063499,0.0376748815,0.0076961857,0.0306306928,0.0296597499,-0.0858734921,0.0170904025,-0.0303543229,0.0162470657,-0.0086750956,0.0127357002,-0.0124784773,0.0255576242,-0.0366804861,-0.0114061199,0.0096266856,-0.0063818907,-0.0206189789,-0.0435949937,0.0183228981,0.0253261477,0.0065923529,0.0460720994,0.036034666,-0.0044029881,-0.0319378152,0.0806296691,-0.0457304269,-0.0236525703,-0.0003504009,0.0591882542,0.0200069379,0.018366633,-0.0183552168,-0.0250341091,-0.0009529206,0.0210062079,0.0064701219,0.0077213091,0.0500714704,-0.0068951524,0.011084755,0.003648604,0.0001247791,0.0234596469,-0.0407985225,-0.0171273407,-0.0217830427,-0.0048397537,0.0334278978,-0.0321647301,-0.0316951238,0.0210877229,0.0184055977,0.0096879546,-0.0419709049,-0.0523956716,-0.0025158611,-0.0003681263,-0.1116977632,0.0506544709,-0.0021652258,0.0562359132,0.016108701,-0.0148674957,-0.024064986,0.0050957743,-0.0113451071,-0.0031646204,0.011523746,0.0020523863,-0.0126280468,-0.0359509438,0.0241882149,0.0491706394,0.0291616227,-0.0359852016,-0.0754611716,-0.003621775,0.0158023871,0.0090955384,0.0273708124,0.0509947687,0.044424247,0.0127039468,-0.0616785139,0.0220159739,0.0437511131,0.0694857016,0.0376559906,0.0443081558,0.0159359165,-0.0472332127,0.035491012,-0.0187441204,-0.0601640046,0.0171124749,-0.0013207733,-0.0918178111,0.0267364699,-0.0332287885,0.045250982,-0.0203918573,0.1001792178,-0.035111364,-0.1142004877,-0.0381523371,0.0199814159,-0.0062357867,-0.0479876176,0.0207771417,-0.0081975516,0.0371792428,-0.0162193887,-0.0080693867,-0.0418454371,0.0130103342,-0.0074272905,-0.0205775481,0.0128691308,-0.0089088529,0.0185103826,0.0364014581,0.0153626259,-0.0432142802,-0.0591928698,-0.0018588797,-0.0039440305,-0.0494724512,0.051611755,0.0454922989,-0.0501607507,0.0496538468,-0.0449755602,-0.0096323397,0.0609689653,-0.057385277,0.0441179425,-0.0689193606,-0.0504265353,-0.02754361,-0.0022026133,-0.0136252102,0.0163067859,-0.0091572991,-0.0005423643,-0.0071518077,-0.0047760406,0.0489553921,-0.0309199877,-0.014279875,-0.0201275051,0.041880548,0.0315910019,0.0236407705,-0.0345569998,0.0530342832,0.0489930809,0.0157989226,-0.0155630307,-0.0010316722,0.0570239313,0.0338760167,0.0045776074,-0.0483618639,0.029941503,0.0217186604,0.0195343774,0.0432903953,-0.0089396685,-0.041677475,0.0211638734,-0.0015380385,0.0047995248,0.0307908077,0.0042111319,-0.0381989926,0.0408580787,-0.0046641454,-0.0083491877,0.0093951253,-0.0635538176,-0.0589230843,0.0479460843,-0.0774512514,-0.0074303951,0.0128916427,0.0094146086,0.0452308655,0.0078698127,-0.0386603326,0.0365011916,0.0576153323,0.0710363314,0.0332308486,0.0062590027,-0.0366363674,-0.1072406843,-0.0209609084,0.0274673942,-0.0080716573,0.0187100247,0.0062176427,-0.0012919393,-0.0318630226,-0.0073573198,0.0427307673,-0.0721866637,-0.0453089662,-0.0023338918,-0.0690497756,-0.0069894507,0.0249374043,-0.0420895815,0.0019991912,0.0189444833,-0.0256098583,0.0395864733,-0.0139795383,0.0054985289,0.0364306085,0.0305612925,0.0113197286,0.0437615328,0.0171511602,-0.029211916]}\n",
            "{\"id\":\"67091fe1-7812-4871-afec-555d1817c917\",\"embedding\":[0.0257696062,-0.0569751449,-0.045261275,0.0049706362,0.0683058426,0.0567920879,0.0253412277,0.0250918176,0.0047781365,0.03091597,0.02560951,-0.0293288473,-0.0006410962,0.0070041618,0.0051456173,0.0116778901,0.0172693152,-0.0079800598,-0.0114506567,-0.0739804655,-0.0011761527,0.0325317942,0.0166247692,-0.0310228188,-0.0020278834,-0.027587302,0.0067601935,-0.0476308651,0.0137424851,0.0472163334,-0.0665746629,0.0483205356,-0.0405809321,0.02958926,-0.0294790491,-0.0297114141,0.0214195773,0.0217441134,-0.0025790907,0.0632171556,-0.005362886,-0.0430523939,-0.010913467,-0.0173405763,0.0537040122,-0.0533077382,-0.0084186308,0.0477028377,-0.0095198294,-0.0454328619,-0.0308956113,0.0084839556,0.0164206028,0.0068609803,0.0073510027,-0.0748219118,0.030211566,-0.0482663177,-0.0373889878,0.0214649942,-0.0036264323,-0.0240377598,-0.0233707074,-0.0320812389,-0.0463529937,-0.0795492306,-0.057512939,0.0343231224,0.0641934127,-0.003431977,-0.010029179,-0.0446029678,0.0523012057,-0.0347569659,-0.0421110839,-0.058078941,-0.0164099354,0.0158398524,0.0608411208,0.0175626613,0.0163385738,-0.0302351266,-0.0011904675,-0.047622025,-0.0476178601,-0.004443509,-0.0365948454,-0.0258898158,-0.0050826725,0.0256840028,-0.0341092683,0.0350796878,0.0092415372,-0.0407922231,-0.0237892941,0.0078892326,-0.0095811114,-0.0287306197,0.0323806554,-0.0592213869,0.0344311371,-0.0070985421,-0.0052640443,-0.00065842,0.0192571189,-0.000097314,0.0236074869,0.0589901656,-0.0101418775,0.0470882095,-0.0788768604,0.0013460714,-0.0113505181,0.0046913056,0.0304640923,0.0027284953,-0.0143621694,0.048371423,0.0478355587,0.0333549753,0.0159893613,0.0096983295,0.0538496114,-0.0232091509,0.0424216613,0.0087079983,-0.0163708664,0.0007683067,0.0034538272,0.0373928994,0.0029054731,-0.0824577957,0.0277913008,-0.0156454984,0.0370737761,0.0999127105,0.0588111617,0.0150892846,0.0300138555,0.0236511398,0.0123362523,-0.0354216173,-0.0578670055,0.0131108277,-0.0405502059,0.0412500873,-0.0377514139,0.0201799981,0.0322775953,-0.049497202,-0.0148890056,0.057624165,-0.0531837679,-0.0212964267,0.0423559435,-0.0032459348,0.0152715249,0.0213960186,0.0104655894,0.0212684087,0.0387808569,0.0068833716,-0.039260678,0.0211089272,-0.027731346,-0.0228346363,-0.0213533361,-0.0285357963,-0.0351521447,0.0139020411,-0.0451418497,0.010144637,-0.0527660437,-0.0420150645,-0.012920063,-0.0302048139,-0.013225425,-0.0051151067,-0.0302515998,0.0002813106,-0.0066844709,-0.0498694703,0.0019924105,0.0364577882,0.031031413,-0.0272508562,0.017473381,-0.0318723582,-0.0376105718,0.0202967394,-0.0235982165,0.0047207219,-0.0339364894,0.0181628522,-0.037337482,0.0455994755,-0.0146722402,-0.0065058931,-0.014906791,-0.0309281275,0.0099580223,0.1130502969,0.0135259656,-0.0174146555,0.0360028595,-0.0414200872,0.0397662222,-0.0363172926,-0.0336003415,0.0531275682,-0.0384331942,0.0168245602,-0.0740027949,-0.0011688571,0.0280987956,0.0070179305,0.0113714905,0.0300622825,0.0174333509,-0.0156481843,-0.0275373608,0.0148983886,0.0004241806,0.059633065,0.0140480641,0.0302695241,-0.0264935624,0.0548602417,0.0434497856,-0.0521021709,0.0318157561,0.0533084683,0.0117693637,-0.005125667,0.0316732824,0.019062357,-0.016050458,0.0292099658,0.0027264592,0.0493397564,-0.0319441594,0.0691345185,0.045132,0.0321332403,-0.0031565218,0.0022600214,-0.0257992186,-0.0356529169,0.0486607589,0.0276204869,0.0136056514,-0.0698398054,0.0572479814,0.0615298301,-0.0509556718,0.0409797616,-0.0464916416,0.0279150028,0.0067160022,0.0151018351,0.041256465,-0.0066310079,0.000120719,-0.0105818817,-0.0429058336,-0.0266467091,0.0095149567,-0.0429871231,-0.0001426578,0.0579325035,-0.0124604404,-0.0686824247,0.051766891,0.0321670361,0.0225599762,0.0247970037,-0.0169429965,0.033384122,-0.007617773,-0.0064664204,0.0156709645,0.0146506988,0.0313312896,0.0068363314,-0.0044186898,-0.0131047107,-0.0029598589,0.01301046,-0.0046950825,-0.0191490594,-0.0321482494,-0.0138543192,-0.0372288823,-0.066067636,-0.0715759024,-0.0307495296,0.007825667,0.0450395346,0.0393918753,-0.0117630465,-0.0051863845,-0.0082787983,-0.0409894362,-0.0858444273,-0.0219608154,0.0016895831,0.0400370434,-0.0322388522,-0.0215662103,0.0068920115,0.0330459028,0.0160536077,-0.0044187289,-0.0259575844,0.0519856922,0.1158635542,-0.0162315667,0.024756141,-0.0220275018,0.0560464971,0.0167841632,0.0748708025,-0.0066693686,0.0035644772,0.01350326,0.0134816356,0.0074591734,-0.0335476212,-0.0213912111,0.009581903,-0.0670754015,-0.0478557833,0.0346607231,-0.0197780523,0.0190746188,0.0225533284,-0.0530071557,0.0577339083,-0.0071037556,0.0001472231,0.0470474064,-0.0418556668,0.0000735377,0.021000091,0.0208614655,-0.0148622897,-0.0290658027,0.0126716774,0.0865164474,0.0057863658,-0.0312445946,0.1278579533,-0.0134724369,-0.0260382686,-0.0209073033,-0.0250514746,-0.0052732411,-0.0139011592,0.0179533213,-0.0454973243,-0.048993215,0.0051203729,0.0093553998,-0.0238810573,-0.003918055,0.0066387816,0.0128262537,0.0337285101,0.0107151987,0.0653963983,0.0124162911,-0.0304585639,-0.0189494602,0.026189141,0.0214677397,-0.057446558,-0.033191815,0.0206550993,-0.0338470191,0.0721413419,-0.018357927,0.0244668126,0.0561586767,0.0130980592,0.0015273951,0.0076073525,0.0024665506,0.0402980745,0.0066676722,0.0421377048,0.0131777786,0.0724745691,0.1286565065,-0.0136908591,0.0055146618,-0.0205182936,-0.0395348109,-0.0157273337,-0.026933901,0.0120955501,-0.0238493141,-0.0470776223,-0.0125377886,-0.0280835386,-0.0255501755,-0.0063054916,-0.0242599584,-0.0147196464,-0.0191845037,0.0123467678,-0.0134838782,-0.0044373679,0.0439646021,-0.0822445601,-0.0527681634,0.0476100184,0.0345543399,0.0015479198,0.0184135288,0.0057923468,0.0402565263,-0.0212722085,-0.0144707588,-0.0160895772,-0.0698342547,-0.060553167,-0.0316104852,-0.0196299832,0.0342004523,-0.0385533571,0.0237198174,-0.0234863255,0.0173889939,-0.0511334017,-0.0013941602,-0.0559942387,-0.015800098,0.0639473423,-0.0309484024,0.0266602188,-0.0013520527,-0.0012355293,0.0239463728,-0.0189344324,-0.0614040717,0.0311603919,0.0162122101,-0.0147296283,0.0123144407,-0.0426502563,0.0245410092,-0.0816255733,-0.0694383457,-0.0111945374,0.0398209766,-0.0623484924,-0.0057048942,0.0383828469,0.0132966954,-0.0049796812,0.006436876,0.0102394978,-0.0432667695,-0.1240031868,-0.0404956043,0.0081934137,0.0781682655,0.0239229109,0.0762256235,0.0297006834,0.0100134816,-0.0054750987,-0.0024386782,0.0751237124,-0.0169611406,-0.0647553131,-0.0860743746,0.0728529692,-0.0253594778,-0.0106157549,-0.0570770763,0.0108720548,0.0030045265,-0.0066221026,-0.0369069539,0.0122637684,0.0006248951,0.0109881293,0.0199573357,0.03222204,-0.0107471673,-0.0262457374,0.004166225,-0.0204295572,-0.023288412,-0.0191901922,-0.0147876302,0.027327409,0.0191490967,0.0230980795,-0.0195642281,-0.0077184485,0.007871097,-0.0491500609,0.0715668425,-0.0475027598,0.0198533256,0.0476294979,-0.0327728279,-0.0002497303,0.018677244,0.0423117504,0.0027580408,-0.0084232697,-0.0552321188,-0.0384107344,-0.0151232053,0.0144878468,0.0195293929,-0.028831698,-0.0084332805,0.0326469466,-0.0642462894,-0.0313006379,0.0308837537,-0.0502196476,0.0405824557,-0.0104482295,-0.0730685666,-0.0049907006,-0.0242040399,0.0335236117,-0.0281883273,-0.0129592018,-0.0043705436,-0.0129096247,0.0041062692,0.0376575999,0.0406893902,-0.0743604898,0.0210633073,-0.0372021012,0.0878073722,0.0103804497,-0.0038605405,0.0399448872,0.0145298708,-0.0482737385,0.0187293887,-0.0167184565,0.0142939044,0.0387842581,0.0481510907,0.0336466059,-0.0117000584,0.00681127,-0.0167578943,0.028389005,-0.0242122654,-0.0204858333,-0.0526222885,0.0300948434,0.0010253409,-0.0021318076,0.048244901,0.0505986027,-0.0098035531,-0.0319054089,0.069636181,0.0147245293,-0.0323817618,0.0145939281,0.009447841,0.029012261,0.034809038,0.0001365925,-0.0571816526,0.0148289325,0.0041606091,-0.0026158546,0.0440814942,0.0116367824,-0.0074707535,0.0577885136,-0.0223747883,0.0167989805,0.0161987487,-0.0233523864,0.0423093922,0.0076571079,-0.03138832,0.0439900383,-0.0444407277,-0.0346191972,0.0202163942,0.0281422399,-0.0185155068,-0.0970134884,-0.0473950878,-0.0284966268,0.0410550237,-0.0778092071,0.043876756,-0.0054376968,0.0323339812,0.037892852,-0.0197124593,-0.0382576585,-0.0103967739,-0.0070196516,0.0290036704,0.0027010641,0.0052547762,-0.0096554626,-0.02694197,-0.0197477974,0.0685111731,0.0142561588,-0.0219302271,-0.0319219753,0.0069687706,-0.0066439053,0.0339394137,0.0028072842,0.0428731963,0.0317713954,0.0021483114,-0.0252857171,0.0446210913,0.0482205525,0.0717985034,0.0182296168,0.033715371,0.0131115289,-0.0452379212,0.0231277049,-0.0187275168,-0.0173371062,0.021729935,-0.0056348192,-0.074636668,0.0163226016,-0.014664162,0.0455960035,-0.0017899158,0.0556663163,-0.0112145161,-0.1367924064,-0.0568480194,0.004148725,-0.0213325452,-0.0350082219,0.0476090424,0.0227091238,0.0068202834,-0.0404232554,0.0138703091,-0.018061012,0.0334243923,-0.0157600641,-0.0464587361,0.0164272431,0.0154657084,0.0137088308,-0.0230110157,-0.0021042579,-0.0453265719,-0.0615123659,-0.0296506658,0.057071317,-0.0444637984,0.0481390134,0.0217075031,-0.0206930805,0.040910393,-0.0283461194,-0.0326749347,0.0882676765,0.0253030043,0.0862476826,-0.0238152649,-0.0531269014,-0.0329147018,-0.0056118495,0.0005444536,0.0590212867,-0.00820034,0.0074750432,-0.0540780835,0.0058663362,-0.0015106555,-0.0084090997,-0.0018550275,-0.0176945273,0.0046757832,0.0042979284,0.0336279795,0.0091361394,0.0487424806,0.0517656617,-0.0030534919,-0.0639272109,0.0384396613,0.0431000143,0.0277487896,-0.0001161264,0.0059710969,0.0257761832,0.0354244635,0.0238123722,0.0245122854,-0.0294680819,-0.0205664467,0.0332733877,0.0242692214,0.0023998744,0.0301355198,0.0382021479,-0.0447694771,0.0367443189,0.0402801223,-0.0036591343,0.0106728049,-0.0233101435,-0.0067728502,0.0802158341,-0.0420012064,0.0128144743,-0.0036218751,0.0343166851,0.0538556613,-0.0017513467,-0.043431066,0.0308955815,0.0457924791,0.0417960212,0.0220136046,-0.0068742484,-0.0347036198,-0.0641461611,-0.042366229,0.0141338632,-0.0585610904,0.0373622775,0.0030771075,0.0266488064,-0.0642912313,0.0112507837,0.0663747415,-0.0395522416,-0.0122822654,0.0204276964,-0.0445385203,0.0174426902,0.0654525608,-0.0105417864,0.0139471767,-0.002679467,-0.0045527606,0.0090044634,-0.0458877832,0.031809371,0.0183858834,0.0268012434,0.0367410332,0.0373831913,-0.0066021667,-0.0095794676]}\n",
            "{\"id\":\"715d6807-a929-45a6-9acf-4a3ba159b767\",\"embedding\":[0.0366864614,-0.0658794194,-0.0391372852,-0.0022027516,0.0604459867,0.0447047986,0.0417589098,0.0359444693,-0.0132232299,0.040219903,0.0344844647,-0.0170058887,0.013781229,-0.0074087228,-0.0120370211,0.0107139423,-0.0067955083,0.0240449999,-0.0076259109,-0.0849944651,0.022370562,-0.0103858905,0.0493101142,-0.0530450568,-0.0108856428,-0.0429755226,0.0146578616,0.0096247112,0.0260897074,0.0315934159,-0.0880752727,0.0680329353,-0.0247459207,-0.0334366895,0.0003856854,-0.0116164843,0.0170793161,0.0246257447,0.002704714,0.0614782758,-0.0019565779,-0.0286085568,-0.0200309362,-0.0195560809,0.0414138287,-0.0511273406,-0.006866477,-0.0058349269,-0.0117974337,-0.0497801825,-0.0225885212,-0.0114633013,0.0217735767,0.002411216,0.0281665176,-0.068070814,-0.0003503391,-0.0476238802,-0.0247365758,0.037523333,0.0191247035,-0.0190932825,0.0244163834,-0.0301400293,-0.020882139,-0.0820121914,-0.0476364568,0.0562533513,0.0646422505,-0.0099195726,-0.0048400746,-0.0257807132,0.0463035069,-0.0126876812,-0.0314162448,-0.0414617918,-0.020082444,0.0313087329,0.0520340912,0.0025007855,-0.0185505189,-0.0294031743,-0.000501517,-0.0409440771,-0.0463057756,0.0213556401,-0.0362293124,-0.0108267274,-0.0004016937,0.0513927341,-0.0246525481,0.0105263973,-0.0139495097,-0.0482270643,-0.0259154402,0.0076258415,-0.0109681459,-0.0510550849,0.0194003806,-0.0412475131,0.0202964973,-0.0485701151,-0.0190685708,0.0038943109,0.0013527647,0.0198843293,0.0188323501,0.0487085469,0.0164157432,0.0049282517,-0.0883990377,-0.0117473705,-0.0064950306,-0.0082907947,0.0210103691,0.0184175,0.0425028801,0.0527596213,0.0466841459,0.0190498866,-0.0045682504,0.0062715514,0.0466547161,0.0044294675,0.0592661314,0.0061441213,-0.0172012281,-0.0065412195,0.046216771,0.0272007138,0.0233225655,-0.0546874292,0.009750749,-0.0210379492,0.0647034198,0.0387528613,0.0842231512,0.0119297421,0.0276304558,0.000003991,-0.0097535942,-0.0164319277,-0.0491725616,0.0220099613,-0.0332135558,0.0721604154,-0.0239269566,0.0182404872,0.0201436039,-0.0585474335,0.022189267,0.0049357694,-0.0436930321,-0.0108490409,0.0622903109,0.0135671217,0.0242165849,-0.0044485256,0.0256103706,0.0356353782,0.0549750552,0.0100968964,-0.024928866,0.0393134542,-0.0153225362,-0.0422767885,-0.0458890572,-0.0187445469,0.0045842244,0.0024300839,-0.0698962808,0.0139012905,-0.0534707159,-0.0560174696,0.0005046664,-0.0781310499,-0.0227450635,-0.0154269934,-0.0179190859,0.0183279049,-0.0406628624,-0.0397034883,0.0125716459,0.0379271917,0.0315385759,-0.0142854368,-0.0029998387,-0.0300788339,-0.0281832349,0.0102940788,-0.0242830776,-0.0153832715,-0.0458943173,0.0239862707,-0.0361136235,0.0607930981,-0.0393039845,0.0321917348,-0.0200037863,-0.0196514204,-0.012439806,0.0893318579,0.0221838672,-0.0350603499,0.0125371218,-0.0193154775,0.0544266477,-0.0748287514,-0.023003418,0.0209139716,-0.0320977122,-0.0155087532,-0.0724155605,0.015762182,0.0247968547,-0.0118426271,0.0064970879,0.0228424463,0.0293436311,-0.0117808031,0.0116072353,0.0186169203,0.0089796968,0.0671899468,0.0224472303,0.0339679532,-0.0546379127,0.0208277218,0.0148125896,-0.039882727,0.0422406383,0.0805825591,0.0031972497,0.0141009558,0.040582478,0.0246461332,0.0208151676,-0.0069444873,-0.0076182852,0.0738286972,-0.0303436834,0.0601300411,0.0484145917,0.0319020599,0.0188089069,0.0114442641,-0.0408736542,-0.0114695672,0.043503698,-0.023247838,0.0128108822,-0.057908494,0.0228852965,0.030875029,-0.0315959379,0.0349113494,-0.0910414234,0.0399045236,0.0043739956,0.0118532283,0.0288354736,0.0045935633,0.0089694299,0.0060380558,-0.0331342965,-0.0285321437,-0.0028874651,0.0004624349,-0.023665918,0.0351892449,-0.0133471815,-0.0565680563,0.0584245212,0.0539377257,-0.0089955786,0.0278100912,-0.0225129742,-0.0063123531,0.0044320966,-0.0459134839,0.0136279268,0.0166512467,0.0497941338,0.0122775799,-0.0266603846,0.004109988,-0.0092598051,0.0310447812,0.0062213042,-0.0223030169,-0.0283631496,-0.0236717146,-0.0386734381,-0.0842202976,-0.0571440198,-0.0528502911,0.0042356495,0.0300152712,0.0423146151,-0.0263903383,0.0016593456,-0.0259791538,-0.0304965414,-0.1067294404,-0.0127963005,-0.0175393932,0.0366275012,-0.0205963962,0.0039558765,0.0006785218,0.0319799744,0.0236802995,0.0086585833,-0.00547877,0.0620069876,0.1136520728,-0.0215662345,0.0174779017,-0.0018589012,0.0674467087,0.0339736342,0.0773252621,0.0133780511,-0.0246212594,0.0181744155,-0.0227701031,-0.0034490875,0.0016281432,-0.004543812,0.0055838516,-0.0872399434,-0.0097024748,0.013678777,-0.024179332,-0.0132475356,-0.001255013,-0.0699110478,0.0684673712,-0.0288256761,0.0346660987,0.0537597723,-0.0263263397,0.0146039668,-0.014393609,0.0203113332,-0.0143801197,0.0177102704,0.0400908105,0.061646983,-0.0210640952,-0.0301534086,0.1003213599,0.002653186,-0.0061275307,-0.0158592872,-0.0247716624,0.0023822126,-0.0045191045,0.0482318737,-0.0328723043,-0.0268931575,-0.0093289251,-0.004462319,-0.0102840737,-0.0183469709,-0.0267437845,0.011638049,0.0387686752,0.0196330193,0.057215672,0.0040496206,-0.0157770161,-0.032009691,-0.002141766,0.0184976291,-0.0072312448,-0.0055032922,0.0138849206,-0.0295764562,0.0514595769,-0.0232558362,0.0163847953,0.0345718637,-0.0049139825,0.0194474813,-0.0103860274,0.0239756759,0.0649575666,-0.0332635678,0.0507513843,0.0048356918,0.0319925323,0.0931488499,-0.0181400701,-0.0240635369,-0.0302678812,-0.0409750901,-0.0300432239,0.0009014697,0.0251500309,-0.0384630598,-0.000907588,-0.0384113975,-0.0797360614,-0.035165403,-0.0075802114,-0.0113593247,0.0186786279,-0.0024270001,0.0074918084,0.0349051207,0.0147431074,0.0054003554,-0.0611552857,-0.0678622276,0.0047080419,0.021096766,0.0084419185,0.0225594956,0.0168484226,0.0431249514,-0.0025943243,0.0082358494,0.0032310605,-0.077122204,-0.075207673,-0.0003664729,-0.0333817974,0.0364941172,-0.0384766385,0.0293887705,-0.0222801436,0.0212747492,-0.040779084,0.0040846341,-0.0516959168,0.0208748188,0.0469689667,-0.019301828,0.0321578234,0.0082558515,-0.0472677425,0.0372095406,-0.0003737364,-0.0546265319,0.0289204232,-0.0225967355,-0.0582324527,0.0217128061,-0.0212962609,0.0185565557,-0.0787727162,-0.0400647968,-0.0344176888,0.0356888101,-0.0361381061,0.0490934588,0.0330391154,0.0026226805,-0.0133919735,0.0237802546,-0.0377438106,-0.0246702321,-0.1053778008,-0.0313089713,-0.0112942429,0.0574500449,-0.0007758264,0.072152622,0.0307655651,0.0476621166,-0.0165312141,0.0001291681,0.060423322,-0.0257127564,-0.0409757048,-0.0536587834,0.0357667021,-0.050490234,-0.010314282,-0.0316578895,-0.0118141938,0.0152305961,0.013539386,-0.0486082956,0.0137051856,0.0111512654,0.0126514258,0.0050834985,0.0545172393,-0.005751817,-0.0286341216,0.003049178,0.0088648256,-0.0278018024,-0.0259597562,-0.0375069715,0.0299601555,-0.0074202768,0.0033240388,0.0124181202,0.0095892455,0.0098125804,-0.0054669403,0.0376035795,-0.0692667216,0.0445187837,0.012451889,-0.059414167,0.0014645294,0.0108497422,0.0477882512,-0.0466711074,0.0078031644,-0.0318761952,0.0053124051,-0.0135218492,0.0417272784,0.0108519299,-0.0028809628,-0.0032541133,0.0174805857,-0.0499348827,-0.0231621433,0.0522094332,-0.0442051254,0.0275793243,0.0073925247,-0.087361522,0.0205242094,-0.028177036,0.0758197457,-0.0440300219,0.0273545086,-0.0197596643,-0.0206741318,-0.0210353509,0.0293946844,0.0104603339,-0.0258454662,-0.0117976721,0.0004256654,0.1082712188,0.0133920182,-0.0422033146,0.0120836804,0.0188240521,-0.1024116203,-0.0070093651,-0.0224936865,0.0127358614,0.0577594675,0.0339277238,-0.0172282327,-0.0115434248,-0.0225093439,-0.0235721078,0.0012274378,-0.030337153,0.0020131264,-0.0585858934,0.04512484,0.0134631423,-0.0146521907,0.0488464981,0.0403220654,0.0055189729,-0.0447095521,0.0866888165,0.0042251293,-0.0044732308,0.0372984484,0.003803272,0.0344845802,0.0314916559,-0.0002849625,-0.0229417328,0.0054300497,-0.00695928,0.0297518484,0.0037568149,0.0176451281,0.0142856846,0.0382598713,-0.0204199571,0.0442973636,0.008028226,-0.0460767113,0.0469496585,-0.0161836967,-0.0307788178,0.0402076356,-0.0287645347,-0.0673358887,0.0151770758,0.0271000676,-0.0204922967,-0.0788587034,-0.0453010798,-0.0731288567,0.0227906294,-0.0964579135,0.0644257516,-0.0115171289,0.0142871095,0.0232956223,-0.000334419,-0.0406226479,-0.0183403734,-0.0324060172,0.0002478556,0.0305123627,-0.0257690195,-0.0165947042,-0.0015470785,-0.0017785125,0.040240556,0.0154828047,-0.0187142696,-0.0436291993,-0.0008975573,0.0039237794,0.0311030895,0.0242217947,0.0446155965,0.0149787394,0.0056362702,-0.0216275174,0.0210980903,0.0461690649,0.0674956664,0.0116107706,0.0139761977,0.0037929618,-0.0238559283,0.0078043952,-0.0125529356,-0.0454352684,0.0282995868,0.0027377044,-0.0926349834,0.0435589924,-0.028359713,0.031981986,-0.0022609448,0.0700010732,-0.0266386047,-0.1275820285,-0.0295505095,-0.0031174731,-0.0483110026,-0.0456167422,0.0223472584,-0.0101608187,0.0377468653,-0.0133371633,0.0168879107,-0.0027294678,0.0386786312,-0.0231769551,-0.0451745316,0.0212937333,0.0234139413,0.029805189,-0.0293060783,0.0103059048,-0.0322926529,-0.0416045897,-0.0091384035,0.0583837479,-0.0023378704,0.0648980364,0.0360711999,-0.0220087059,0.0529803932,-0.0320694335,-0.0326888971,0.1001102477,-0.0127747282,0.0515558422,-0.0341384485,-0.0527122915,-0.0003819308,0.0013518912,-0.0295719225,0.0386094823,-0.0108678993,-0.0079066055,-0.0597978607,0.0000281772,-0.0011877061,-0.0220835395,-0.0093980562,-0.032417804,0.056584999,0.0069689741,0.0168307535,-0.0177147817,0.0708674937,0.0377531722,-0.0297192484,-0.0290733743,0.0623638108,0.058439903,-0.0272364747,-0.0016053939,-0.0120120654,0.0273598656,0.0266479012,0.0298046786,0.0432053916,-0.0100690117,-0.0277896207,0.0568816736,-0.0135263288,-0.0097867828,0.0142407743,0.0386869945,-0.0413849242,0.0522786304,0.0239084046,-0.0121281566,-0.0089186728,-0.0223982409,-0.02892882,0.0941979066,-0.0686382055,-0.0015475986,0.0126783671,-0.0224149674,0.0763543621,0.0221281126,-0.0564995743,0.0307666566,0.0168515611,0.0571543947,0.0290788449,0.0110585764,-0.0354462862,-0.0746106878,-0.0335619599,0.0228043348,-0.046074491,0.0248733032,0.0041842698,0.0039000737,-0.0173941664,-0.0063998764,0.0196080543,-0.0404636636,-0.0680255517,0.0167058036,-0.0424348414,0.0005941111,0.0479963943,-0.0134767219,-0.0099640368,0.001043565,-0.0274038799,0.0111914705,-0.0275931768,0.0166092459,0.0253972337,-0.0002547713,0.0291765351,0.0496165305,0.0091311149,-0.0179608874]}\n"
          ]
        }
      ],
      "source": [
        "# save id and embedding as a json file\n",
        "jsonl_string = embedding_df[[\"id\", \"embedding\"]].to_json(orient=\"records\", lines=True)\n",
        "with open(\"data.json\", \"w\") as f:\n",
        "    f.write(jsonl_string)\n",
        "\n",
        "# show the first few lines of the json file\n",
        "! head -n 3 data.json"
      ]
    },
    {
      "cell_type": "code",
      "execution_count": null,
      "metadata": {
        "id": "CzwDWJfzAk3n",
        "colab": {
          "base_uri": "https://localhost:8080/"
        },
        "outputId": "0ff2bf1b-4d72-48ed-95b8-12853508d8c0"
      },
      "outputs": [
        {
          "output_type": "stream",
          "name": "stdout",
          "text": [
            "Creating gs://key-transformer-429201-m0-vector-search-bucket-ht-07120232/...\n",
            "Copying file://data.json [Content-Type=application/json]...\n",
            "-\n",
            "Operation completed over 1 objects/50.5 KiB.                                     \n"
          ]
        }
      ],
      "source": [
        "# Generates a unique ID for session\n",
        "UID = datetime.now().strftime(\"%m%d%H%M\")\n",
        "\n",
        "# Creates a GCS bucket\n",
        "BUCKET_URI = f\"gs://{VECTOR_SEARCH_EMBEDDING_DIR}-{UID}\"\n",
        "! gsutil mb -l $LOCATION -p {PROJECT_ID} {BUCKET_URI}\n",
        "! gsutil cp data.json {BUCKET_URI}"
      ]
    },
    {
      "cell_type": "markdown",
      "metadata": {
        "id": "xxdbjKw1XDxl"
      },
      "source": [
        "### Create an Index\n"
      ]
    },
    {
      "cell_type": "markdown",
      "metadata": {
        "id": "xpMUXqWQ75uu"
      },
      "source": [
        "Create an [MatchingEngineIndex]"
      ]
    },
    {
      "cell_type": "code",
      "execution_count": null,
      "metadata": {
        "id": "kKDw5VXMkXb3",
        "colab": {
          "base_uri": "https://localhost:8080/"
        },
        "outputId": "4b26e6d4-4e78-4d2e-9fce-6e0b35d62d4e"
      },
      "outputs": [
        {
          "output_type": "stream",
          "name": "stderr",
          "text": [
            "INFO:google.cloud.aiplatform.matching_engine.matching_engine_index:Creating MatchingEngineIndex\n",
            "INFO:google.cloud.aiplatform.matching_engine.matching_engine_index:Create MatchingEngineIndex backing LRO: projects/21974038498/locations/us-east1/indexes/7577948487841480704/operations/7079657239836884992\n",
            "INFO:google.cloud.aiplatform.matching_engine.matching_engine_index:MatchingEngineIndex created. Resource name: projects/21974038498/locations/us-east1/indexes/7577948487841480704\n",
            "INFO:google.cloud.aiplatform.matching_engine.matching_engine_index:To use this MatchingEngineIndex in another session:\n",
            "INFO:google.cloud.aiplatform.matching_engine.matching_engine_index:index = aiplatform.MatchingEngineIndex('projects/21974038498/locations/us-east1/indexes/7577948487841480704')\n"
          ]
        }
      ],
      "source": [
        "# create index\n",
        "my_index = aiplatform.MatchingEngineIndex.create_tree_ah_index(\n",
        "    display_name=f\"{VECTOR_SEARCH_INDEX_NAME}\",\n",
        "    contents_delta_uri=BUCKET_URI,\n",
        "    dimensions=768,\n",
        "    approximate_neighbors_count=20,\n",
        "    distance_measure_type=\"DOT_PRODUCT_DISTANCE\",\n",
        ")"
      ]
    },
    {
      "cell_type": "markdown",
      "metadata": {
        "id": "2rFam_w9U0dI"
      },
      "source": [
        "By calling the `create_tree_ah_index` function, it starts building an Index. This will take under a few minutes if the dataset is small, otherwise about 50 minutes or more depending on the size of the dataset. You can check status of the index creation on [the Vector Search Console > INDEXES tab](https://console.cloud.google.com/vertex-ai/matching-engine/indexes).\n",
        "\n",
        "\n",
        "#### The parameters for creating index\n",
        "\n",
        "- `contents_delta_uri`: The URI of Cloud Storage directory where you stored the embedding JSON files\n",
        "- `dimensions`: Dimension size of each embedding. In this case, it is 768 as we are using the embeddings from the Text Embeddings API.\n",
        "- `approximate_neighbors_count`: how many similar items we want to retrieve in typical cases\n",
        "- `distance_measure_type`: what metrics to measure distance/similarity between embeddings. In this case it's `DOT_PRODUCT_DISTANCE`\n",
        "\n",
        "See [the document](https://cloud.google.com/vertex-ai/docs/vector-search/create-manage-index) for more details on creating Index and the parameters.\n"
      ]
    },
    {
      "cell_type": "markdown",
      "metadata": {
        "id": "3fDs-FDS789e"
      },
      "source": [
        "### Create Index Endpoint and deploy the Index\n"
      ]
    },
    {
      "cell_type": "code",
      "execution_count": null,
      "metadata": {
        "id": "peH6WpSj789m",
        "colab": {
          "base_uri": "https://localhost:8080/"
        },
        "outputId": "d3222675-a28b-4842-c777-fcc982d7ed53"
      },
      "outputs": [
        {
          "output_type": "stream",
          "name": "stderr",
          "text": [
            "INFO:google.cloud.aiplatform.matching_engine.matching_engine_index_endpoint:Creating MatchingEngineIndexEndpoint\n",
            "INFO:google.cloud.aiplatform.matching_engine.matching_engine_index_endpoint:Create MatchingEngineIndexEndpoint backing LRO: projects/21974038498/locations/us-east1/indexEndpoints/2316442301305454592/operations/8230326944630046720\n",
            "INFO:google.cloud.aiplatform.matching_engine.matching_engine_index_endpoint:MatchingEngineIndexEndpoint created. Resource name: projects/21974038498/locations/us-east1/indexEndpoints/2316442301305454592\n",
            "INFO:google.cloud.aiplatform.matching_engine.matching_engine_index_endpoint:To use this MatchingEngineIndexEndpoint in another session:\n",
            "INFO:google.cloud.aiplatform.matching_engine.matching_engine_index_endpoint:index_endpoint = aiplatform.MatchingEngineIndexEndpoint('projects/21974038498/locations/us-east1/indexEndpoints/2316442301305454592')\n"
          ]
        },
        {
          "output_type": "stream",
          "name": "stdout",
          "text": [
            "<google.cloud.aiplatform.matching_engine.matching_engine_index_endpoint.MatchingEngineIndexEndpoint object at 0x7d9b8617f400> \n",
            "resource name: projects/21974038498/locations/us-east1/indexEndpoints/2316442301305454592\n"
          ]
        }
      ],
      "source": [
        "# create IndexEndpoint\n",
        "my_index_endpoint = aiplatform.MatchingEngineIndexEndpoint.create(\n",
        "    display_name=f\"{VECTOR_SEARCH_INDEX_NAME}\",\n",
        "    public_endpoint_enabled=True,\n",
        ")\n",
        "print(my_index_endpoint)"
      ]
    },
    {
      "cell_type": "code",
      "execution_count": null,
      "metadata": {
        "id": "G6IKS9GD8ea7"
      },
      "outputs": [],
      "source": [
        "# DEPLOYED_INDEX_NAME = VECTOR_SEARCH_INDEX_NAME.replace(\n",
        "#     \"-\", \"_\"\n",
        "# )  # Can't have - in deployment name, only alphanumeric and _ allowed\n",
        "# DEPLOYED_INDEX_ID = f\"{DEPLOYED_INDEX_NAME}_{UID}\"\n",
        "# # deploy the Index to the Index Endpoint\n",
        "# my_index_endpoint.deploy_index(index=my_index, deployed_index_id=DEPLOYED_INDEX_ID)"
      ]
    },
    {
      "cell_type": "markdown",
      "metadata": {
        "id": "xu9ZmWcpXQ55"
      },
      "source": [
        "If it is the first time to deploy an Index to an Index Endpoint, it will take around 25 minutes to automatically build and initiate the backend for it. After the first deployment, it will finish in seconds. To see the status of the index deployment, open [the Vector Search Console > INDEX ENDPOINTS tab](https://console.cloud.google.com/vertex-ai/matching-engine/index-endpoints) and click the Index Endpoint."
      ]
    },
    {
      "cell_type": "markdown",
      "metadata": {
        "id": "fM3a9RQx4pQO"
      },
      "source": [
        "### Ask Questions to the PDF\n",
        "This code snippet establishes a question-answering (QA) system.  It leverages a vector search engine to find relevant information from a dataset and then uses the 'gemini-pro' LLM model to generate and refine the final answer to a user's query."
      ]
    },
    {
      "cell_type": "code",
      "execution_count": null,
      "metadata": {
        "id": "dRme7I2hhqC8",
        "colab": {
          "base_uri": "https://localhost:8080/"
        },
        "outputId": "d9a7d8d9-ca75-4a7a-bc98-6e2731ed5ff6"
      },
      "outputs": [
        {
          "output_type": "stream",
          "name": "stdout",
          "text": [
            "I am sorry, but the context does not contain information about Transformer Manufacturing Flow, so I am unable to answer the question. \n"
          ]
        }
      ],
      "source": [
        "def Test_LLM_Response(txt):\n",
        "    \"\"\"\n",
        "    Determines whether a given text response generated by an LLM indicates a lack of information.\n",
        "\n",
        "    Args:\n",
        "        txt (str): The text response generated by the LLM.\n",
        "\n",
        "    Returns:\n",
        "        bool: True if the LLM's response suggests it was able to generate a meaningful answer,\n",
        "              False if the response indicates it could not find relevant information.\n",
        "\n",
        "    This function works by presenting a formatted classification prompt to the LLM (`gemini_pro_model`).\n",
        "    The prompt includes the original text and specific categories indicating whether sufficient information was available.\n",
        "    The function analyzes the LLM's classification output to make the determination.\n",
        "    \"\"\"\n",
        "\n",
        "    classification_prompt = f\"\"\" Classify the text as one of the following categories:\n",
        "        -Information Present\n",
        "        -Information Not Present\n",
        "        Text=The provided context does not contain information.\n",
        "        Category:Information Not Present\n",
        "        Text=I cannot answer this question from the provided context.\n",
        "        Category:Information Not Present\n",
        "        Text:{txt}\n",
        "        Category:\"\"\"\n",
        "    classification_response = model.generate_content(classification_prompt).text\n",
        "\n",
        "    if \"Not Present\" in classification_response:\n",
        "        return False  # Indicates that the LLM couldn't provide an answer\n",
        "    else:\n",
        "        return True  # Suggests the LLM generated a meaningful response\n",
        "\n",
        "\n",
        "def get_prompt_text(question, context):\n",
        "    \"\"\"\n",
        "    Generates a formatted prompt string suitable for a language model, combining the provided question and context.\n",
        "\n",
        "    Args:\n",
        "        question (str): The user's original question.\n",
        "        context (str): The relevant text to be used as context for the answer.\n",
        "\n",
        "    Returns:\n",
        "        str: A formatted prompt string with placeholders for the question and context, designed to guide the language model's answer generation.\n",
        "    \"\"\"\n",
        "    prompt = \"\"\"\n",
        "      Answer the question using the context below. Respond with only from the text provided\n",
        "      Question: {question}\n",
        "      Context : {context}\n",
        "      \"\"\".format(\n",
        "        question=question, context=context\n",
        "    )\n",
        "    return prompt\n",
        "\n",
        "\n",
        "def get_answer(query):\n",
        "    \"\"\"\n",
        "    Retrieves an answer to a provided query using multimodal retrieval augmented generation (RAG).\n",
        "\n",
        "    This function leverages a vector search system to find relevant text documents from a\n",
        "    pre-indexed store of multimodal data. Then, it uses a large language model (LLM) to generate\n",
        "    an answer, using the retrieved documents as context.\n",
        "\n",
        "    Args:\n",
        "        query (str): The user's original query.\n",
        "\n",
        "    Returns:\n",
        "        dict: A dictionary containing the following keys:\n",
        "            * 'result' (str): The LLM-generated answer.\n",
        "            * 'neighbor_index' (int): The index of the most relevant document used for generation\n",
        "                                     (for fetching image path).\n",
        "\n",
        "    Raises:\n",
        "        RuntimeError: If no valid answer could be generated within the specified search attempts.\n",
        "    \"\"\"\n",
        "\n",
        "    neighbor_index = 0  # Initialize index for tracking the most relevant document\n",
        "    answer_found_flag = 0  # Flag to signal if an acceptable answer is found\n",
        "    result = \"\"  # Initialize the answer string\n",
        "    # Use a default image if the reference is not found\n",
        "    page_source = \"./Images/blank.jpg\"  # Initialize the blank image\n",
        "    query_embeddings = generate_text_embedding(\n",
        "        query\n",
        "    )  # Generate embeddings for the query\n",
        "\n",
        "    response = my_index_endpoint.find_neighbors(\n",
        "        deployed_index_id=DEPLOYED_INDEX_ID,\n",
        "        queries=[query_embeddings],\n",
        "        num_neighbors=5,\n",
        "    )  # Retrieve up to 5 relevant documents from the vector store\n",
        "\n",
        "    while answer_found_flag == 0 and neighbor_index < 4:\n",
        "        context = embedding_df[\n",
        "            embedding_df[\"id\"] == response[0][neighbor_index].id\n",
        "        ].text.values[\n",
        "            0\n",
        "        ]  # Extract text context from the relevant document\n",
        "\n",
        "        prompt = get_prompt_text(\n",
        "            query, context\n",
        "        )  # Create a prompt using the question and context\n",
        "        result = model.generate_content(prompt).text  # Generate an answer with the LLM\n",
        "\n",
        "        if Test_LLM_Response(result):\n",
        "            answer_found_flag = 1  # Exit loop when getting a valid response\n",
        "        else:\n",
        "            neighbor_index += (\n",
        "                1  # Try the next retrieved document if the answer is unsatisfactory\n",
        "            )\n",
        "\n",
        "    if answer_found_flag == 1:\n",
        "        page_source = embedding_df[\n",
        "            embedding_df[\"id\"] == response[0][neighbor_index].id\n",
        "        ].page_source.values[\n",
        "            0\n",
        "        ]  # Extract image_path from the relevant document\n",
        "    return result, page_source\n",
        "\n",
        "\n",
        "query = (\n",
        "    \"what is the best way to go to Dubai?\")\n",
        "\n",
        "result, page_source = get_answer(query)\n",
        "print(result)"
      ]
    },
    {
      "cell_type": "markdown",
      "source": [],
      "metadata": {
        "id": "G0xsu3JJzyhv"
      }
    },
    {
      "cell_type": "markdown",
      "source": [
        "## Code to calculate Metrics:"
      ],
      "metadata": {
        "id": "DFh0QQSV-ntM"
      }
    },
    {
      "cell_type": "code",
      "source": [
        "\n",
        "def calculate_context_precision(query, retrieved_contexts, relevant_contexts):\n",
        "    \"\"\"\n",
        "    Calculate the precision of the retrieved contexts based on a set of predefined relevant contexts.\n",
        "    Args:\n",
        "        query (str): The user's original query.\n",
        "        retrieved_contexts (list): Contexts retrieved by the RAG system.\n",
        "        relevant_contexts (list): Manually tagged relevant contexts for the query.\n",
        "    Returns:\n",
        "        float: Precision score.\n",
        "    \"\"\"\n",
        "    correct_retrievals = sum([1 for context in retrieved_contexts if context in relevant_contexts])\n",
        "    if retrieved_contexts:\n",
        "        return correct_retrievals / len(retrieved_contexts)\n",
        "    return 0.0"
      ],
      "metadata": {
        "id": "1dW7nUPJ-3i1"
      },
      "execution_count": null,
      "outputs": []
    },
    {
      "cell_type": "markdown",
      "source": [
        "## Metrics to calculate performance\n",
        "\n",
        "For crafting responses in the context of a travel agent chatbot, I'd focus on providing specific travel advice, destination details, booking assistance, and personalized travel recommendations. Here’s how the travel agent context might influence responses:\n",
        "\n",
        "### Travel Advice and Recommendations:\n",
        "**Example Query:** \"What are the top attractions in Paris?\"\n",
        "**Response:** \"Paris is brimming with must-see attractions! The Eiffel Tower and Louvre Museum are absolute musts for first-timers. Strolling through the charming streets of Montmartre and visiting Notre-Dame Cathedral are also highly recommended. For something a bit different, consider a Seine river cruise to see many of these from the water.\"\n",
        "\n",
        "### Booking Assistance:\n",
        "**Example Query:** \"Can you help me book a hotel in Tokyo for next week?\"\n",
        "**Response:** \"I'd be happy to help with your hotel booking in Tokyo! Could you please provide more details such as your budget, preferred location, and any specific amenities you're looking for? This will help me find the best options for you.\"\n",
        "\n",
        "### Destination Details:\n",
        "**Example Query:** \"What's the weather like in Bali in December?\"\n",
        "**Response:** \"December in Bali is part of the rainy season, so you can expect high humidity and frequent showers. However, the temperatures remain warm, usually around 27°C (80°F), making it a pleasant time to explore the island’s indoor attractions and lush landscapes.\"\n",
        "\n",
        "### Customized Itineraries:\n",
        "**Example Query:** \"I'm planning a road trip across the US. Can you suggest a route?\"\n",
        "**Response:** \"That sounds like an exciting trip! For a cross-country journey, you might start in New York, head through Philadelphia and Washington, D.C., then explore the vast landscapes of the Midwest. Don't miss the iconic sights in Chicago and Denver before reaching the West Coast through Las Vegas to Los Angeles and finally San Francisco. I can help fine-tune this route based on your interests and the time you have.\"\n",
        "\n",
        "By leveraging this context, responses can be tailored to be more helpful and relevant to a traveler's needs, enhancing their planning and travel experience."
      ],
      "metadata": {
        "id": "pzEZc2HTBJw2"
      }
    },
    {
      "cell_type": "markdown",
      "metadata": {
        "id": "UeIDns8neIdO"
      },
      "source": [
        "# Ask Questions to the PDF using Gradio UI\n",
        " this code creates a web-based frontend for your question-answering system, allowing users to easily enter queries and see the results along with relevant images."
      ]
    },
    {
      "cell_type": "code",
      "source": [
        "import gradio as gr\n",
        "from PIL import Image as PIL_Image\n",
        "\n",
        "def gradio_query(query):\n",
        "    print(query)\n",
        "\n",
        "    # Retrieve the answer from your QA system\n",
        "    result, image_path = get_answer(query)\n",
        "    print(\"result here\")\n",
        "    print(result)\n",
        "\n",
        "    try:\n",
        "        # Attempt to fetch the source image reference\n",
        "        image = PIL_Image.open(image_path)  # Open the reference image\n",
        "    except:\n",
        "        # Use a default image if the reference is not found\n",
        "        image = PIL_Image.open(\"./Images/blank.jpg\")\n",
        "\n",
        "    return result, image  # Return both the text answer and the image\n",
        "\n",
        "gr.close_all()  # Ensure a clean Gradio interface\n",
        "with gr.Blocks() as demo:\n",
        "    with gr.Row():\n",
        "        with gr.Column():\n",
        "            # Input / Output Components\n",
        "            query = gr.Textbox(label=\"Query\", info=\"Enter your query\")\n",
        "            btn_enter = gr.Button(\"Process\")\n",
        "            answer = gr.Textbox(label=\"Response\", interactive=False)  # Use gr.Textbox for plain text response\n",
        "            btn_clear = gr.Button(\"Clear\")\n",
        "        with gr.Column():\n",
        "            image = gr.Image(label=\"Reference\", visible=True)\n",
        "\n",
        "    # Button Click Event\n",
        "    btn_enter.click(fn=gradio_query, inputs=query, outputs=[answer, image])\n",
        "    btn_clear.click(lambda: (\"\", None), inputs=None, outputs=[query, answer, image])\n",
        "\n",
        "demo.launch(share=True, debug=True, inbrowser=True)  # Launch the Gradio app\n"
      ],
      "metadata": {
        "id": "uV2j1lB8YKD1",
        "outputId": "30abf5ae-f2df-422a-89c3-61d5eab5ac8e",
        "colab": {
          "base_uri": "https://localhost:8080/",
          "height": 1000
        }
      },
      "execution_count": null,
      "outputs": [
        {
          "output_type": "stream",
          "name": "stdout",
          "text": [
            "Colab notebook detected. This cell will run indefinitely so that you can see errors and logs. To turn off, set debug=False in launch().\n",
            "Running on public URL: https://47f996413d846e27d9.gradio.live\n",
            "\n",
            "This share link expires in 72 hours. For free permanent hosting and GPU upgrades, run `gradio deploy` from Terminal to deploy to Spaces (https://huggingface.co/spaces)\n"
          ]
        },
        {
          "output_type": "display_data",
          "data": {
            "text/plain": [
              "<IPython.core.display.HTML object>"
            ],
            "text/html": [
              "<div><iframe src=\"https://47f996413d846e27d9.gradio.live\" width=\"100%\" height=\"500\" allow=\"autoplay; camera; microphone; clipboard-read; clipboard-write;\" frameborder=\"0\" allowfullscreen></iframe></div>"
            ]
          },
          "metadata": {}
        },
        {
          "output_type": "stream",
          "name": "stdout",
          "text": [
            "What Are Tours and Vacation Packages?\n"
          ]
        },
        {
          "output_type": "stream",
          "name": "stderr",
          "text": [
            "Traceback (most recent call last):\n",
            "  File \"/usr/local/lib/python3.10/dist-packages/google/api_core/grpc_helpers.py\", line 79, in error_remapped_callable\n",
            "    return callable_(*args, **kwargs)\n",
            "  File \"/usr/local/lib/python3.10/dist-packages/grpc/_channel.py\", line 1181, in __call__\n",
            "    return _end_unary_response_blocking(state, call, False, None)\n",
            "  File \"/usr/local/lib/python3.10/dist-packages/grpc/_channel.py\", line 1006, in _end_unary_response_blocking\n",
            "    raise _InactiveRpcError(state)  # pytype: disable=not-instantiable\n",
            "grpc._channel._InactiveRpcError: <_InactiveRpcError of RPC that terminated with:\n",
            "\tstatus = StatusCode.UNAVAILABLE\n",
            "\tdetails = \"recvmsg:Connection reset by peer\"\n",
            "\tdebug_error_string = \"UNKNOWN:Error received from peer  {created_time:\"2024-07-12T03:44:24.820470856+00:00\", grpc_status:14, grpc_message:\"recvmsg:Connection reset by peer\"}\"\n",
            ">\n",
            "\n",
            "The above exception was the direct cause of the following exception:\n",
            "\n",
            "Traceback (most recent call last):\n",
            "  File \"/usr/local/lib/python3.10/dist-packages/gradio/queueing.py\", line 541, in process_events\n",
            "    response = await route_utils.call_process_api(\n",
            "  File \"/usr/local/lib/python3.10/dist-packages/gradio/route_utils.py\", line 276, in call_process_api\n",
            "    output = await app.get_blocks().process_api(\n",
            "  File \"/usr/local/lib/python3.10/dist-packages/gradio/blocks.py\", line 1928, in process_api\n",
            "    result = await self.call_function(\n",
            "  File \"/usr/local/lib/python3.10/dist-packages/gradio/blocks.py\", line 1514, in call_function\n",
            "    prediction = await anyio.to_thread.run_sync(\n",
            "  File \"/usr/local/lib/python3.10/dist-packages/anyio/to_thread.py\", line 33, in run_sync\n",
            "    return await get_asynclib().run_sync_in_worker_thread(\n",
            "  File \"/usr/local/lib/python3.10/dist-packages/anyio/_backends/_asyncio.py\", line 877, in run_sync_in_worker_thread\n",
            "    return await future\n",
            "  File \"/usr/local/lib/python3.10/dist-packages/anyio/_backends/_asyncio.py\", line 807, in run\n",
            "    result = context.run(func, *args)\n",
            "  File \"/usr/local/lib/python3.10/dist-packages/gradio/utils.py\", line 833, in wrapper\n",
            "    response = f(*args, **kwargs)\n",
            "  File \"<ipython-input-50-81328cfb7cde>\", line 8, in gradio_query\n",
            "    result, image_path = get_answer(query)\n",
            "  File \"<ipython-input-47-d49d1a8570b2>\", line 85, in get_answer\n",
            "    response = my_index_endpoint.find_neighbors(\n",
            "  File \"/usr/local/lib/python3.10/dist-packages/google/cloud/aiplatform/matching_engine/matching_engine_index_endpoint.py\", line 1551, in find_neighbors\n",
            "    response = self._public_match_client.find_neighbors(find_neighbors_request)\n",
            "  File \"/usr/local/lib/python3.10/dist-packages/google/cloud/aiplatform_v1beta1/services/match_service/client.py\", line 758, in find_neighbors\n",
            "    response = rpc(\n",
            "  File \"/usr/local/lib/python3.10/dist-packages/google/api_core/gapic_v1/method.py\", line 131, in __call__\n",
            "    return wrapped_func(*args, **kwargs)\n",
            "  File \"/usr/local/lib/python3.10/dist-packages/google/api_core/grpc_helpers.py\", line 81, in error_remapped_callable\n",
            "    raise exceptions.from_grpc_error(exc) from exc\n",
            "google.api_core.exceptions.ServiceUnavailable: 503 recvmsg:Connection reset by peer\n"
          ]
        },
        {
          "output_type": "stream",
          "name": "stdout",
          "text": [
            "What Are Tours and Vacation Packages?\n",
            "result here\n",
            "To answer your question, tours encompass everything from chilling out at a sunny West Indies beach to hiking the Himalayas. In most cases, tours refer to guided tours, whereas vacation packages frequently refer to self-guided tours. Let's delve into these two categories in depth: \n",
            "\n",
            "1.  **Guided Tours:** A tour guide or escort accompanies participants in guided excursions. Itineraries are well prepared, and transportation, including flights, land arrangements, and sightseeing, is frequently covered in the price. The convenience, security, and organized atmosphere of escorted excursions appeal to many tourists. This method is excellent for individuals who prefer others to plan their vacation and dislike dealing with the inconveniences of organizing one themselves. Numerous types of escorted excursions cater to the preferences of the various travelers. \n",
            "2. **Independent Tours:**  Self-guided tours enable greater independence and self-reliance. They can be tailored meticulously or selected from several travel arrangements, giving clients the freedom to customize their journey to satisfy their preferences and financial constraints. Independent vacations are an excellent fit for those who like taking initiative, researching locations on their own, and creating unique itineraries. \n",
            "\n",
            "To make an informed choice when selecting between a  guided tour and an independent vacation, consider your individual requirements and desires: Would you like a comprehensive trip organized for you or the liberty to explore independently? What level of flexibility or structure would satisfy you more? What kinds of interactions do you envision having in the course of your travel: would you like to be with other people? What kinds of adventures are you interested in having in the destinations you would go: Would you prefer having everything done for you or doing it at your own pace: The most important factor is selecting the strategy that allows you to unwind on vacation!\n",
            "Who Operates Tour Packages?\n",
            "result here\n",
            "Tour operators prepare tour packages. They sell them to the public, either directly or through travel agencies.\n",
            "Keyboard interruption in main thread... closing server.\n",
            "Killing tunnel 127.0.0.1:7860 <> https://47f996413d846e27d9.gradio.live\n"
          ]
        },
        {
          "output_type": "execute_result",
          "data": {
            "text/plain": []
          },
          "metadata": {},
          "execution_count": 50
        }
      ]
    },
    {
      "cell_type": "markdown",
      "metadata": {
        "id": "Xbj4ooqjNUXv"
      },
      "source": [
        "### Close the demo\n",
        "\n",
        "Note: Stop the previous cell to close the Gradio server running locally then run this cell to free up the port utilised for running the server"
      ]
    },
    {
      "cell_type": "code",
      "execution_count": null,
      "metadata": {
        "id": "mgqWI-Z1xlVp"
      },
      "outputs": [],
      "source": [
        "demo.close()"
      ]
    },
    {
      "cell_type": "markdown",
      "metadata": {
        "id": "eUac1wDXPDC2"
      },
      "source": [
        "### Cleaning up\n",
        "To clean up all Google Cloud resources used in this project, you can delete the Google Cloud project you used for the tutorial.\n",
        "\n",
        "Otherwise, you can delete the individual resources you created in this tutorial."
      ]
    },
    {
      "cell_type": "code",
      "execution_count": null,
      "metadata": {
        "id": "ItrB6IIUCMb1"
      },
      "outputs": [],
      "source": [
        "delete_bucket = False\n",
        "\n",
        "# Force undeployment of indexes and delete endpoint\n",
        "my_index_endpoint.delete(force=True)\n",
        "\n",
        "# Delete indexes\n",
        "my_index.delete()\n",
        "\n",
        "if delete_bucket:\n",
        "    ! gsutil rm -rf {BUCKET_URI}"
      ]
    }
  ],
  "metadata": {
    "colab": {
      "provenance": []
    },
    "environment": {
      "kernel": "python3",
      "name": "tf2-gpu.2-12.m110",
      "type": "gcloud",
      "uri": "gcr.io/deeplearning-platform-release/tf2-gpu.2-12:m110"
    },
    "kernelspec": {
      "display_name": "Python 3",
      "language": "python",
      "name": "python3"
    },
    "language_info": {
      "codemirror_mode": {
        "name": "ipython",
        "version": 3
      },
      "file_extension": ".py",
      "mimetype": "text/x-python",
      "name": "python",
      "nbconvert_exporter": "python",
      "pygments_lexer": "ipython3",
      "version": "3.10.12"
    }
  },
  "nbformat": 4,
  "nbformat_minor": 0
}